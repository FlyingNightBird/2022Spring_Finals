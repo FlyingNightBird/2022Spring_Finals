{
 "cells": [
  {
   "cell_type": "markdown",
   "source": [
    "# Data process\n",
    "Formalize crime data of Boston and Denver.\n",
    "Delete lines with blanks in columns of date, crime type or street.\n",
    "Check the data types in data frame and modify them."
   ],
   "metadata": {
    "collapsed": false,
    "pycharm": {
     "name": "#%% md\n"
    }
   }
  },
  {
   "cell_type": "markdown",
   "source": [
    "Import packages and read in csv."
   ],
   "metadata": {
    "collapsed": false
   }
  },
  {
   "cell_type": "code",
   "execution_count": 1,
   "outputs": [
    {
     "name": "stderr",
     "output_type": "stream",
     "text": [
      "D:\\anacoda\\lib\\site-packages\\IPython\\core\\interactiveshell.py:3444: DtypeWarning: Columns (6) have mixed types.Specify dtype option on import or set low_memory=False.\n",
      "  exec(code_obj, self.user_global_ns, self.user_ns)\n"
     ]
    }
   ],
   "source": [
    "import pandas as pd\n",
    "df = pd.read_csv('data/boston_crime.csv')\n",
    "df2 = pd.read_csv('data/marijuana_crime.csv')"
   ],
   "metadata": {
    "collapsed": false,
    "pycharm": {
     "name": "#%%\n"
    }
   }
  },
  {
   "cell_type": "markdown",
   "source": [
    "Formalize time data and clean blank values of data of Boston.\n",
    "Output to csv for future using."
   ],
   "metadata": {
    "collapsed": false,
    "pycharm": {
     "name": "#%% md\n"
    }
   }
  },
  {
   "cell_type": "code",
   "execution_count": 2,
   "outputs": [],
   "source": [
    "df = df[['OFFENSE_CODE_GROUP','OCCURRED_ON_DATE','STREET']]\n",
    "df['OCCURRED_ON_DATE']=df['OCCURRED_ON_DATE'].map(lambda x:x.split(' ')[0])\n",
    "df.dropna(axis=0, how='any', inplace=True)\n",
    "df.to_csv('data_modified/modified_boston_crime.csv', index = False)"
   ],
   "metadata": {
    "collapsed": false,
    "pycharm": {
     "name": "#%%\n"
    }
   }
  },
  {
   "cell_type": "markdown",
   "source": [
    "Clean blank values of data of Denver."
   ],
   "metadata": {
    "collapsed": false,
    "pycharm": {
     "name": "#%% md\n"
    }
   }
  },
  {
   "cell_type": "code",
   "execution_count": 3,
   "outputs": [],
   "source": [
    "df2 = df2[['OFFENSE_CATEGORY_ID','REPORTDATE','INCIDENT_ADDRESS']]\n",
    "df2.columns=['OFFENSE_CODE_GROUP','OCCURRED_ON_DATE','STREET']\n",
    "df2.dropna(axis=0, how='any', inplace=True)"
   ],
   "metadata": {
    "collapsed": false,
    "pycharm": {
     "name": "#%%\n"
    }
   }
  },
  {
   "cell_type": "code",
   "execution_count": 4,
   "outputs": [
    {
     "data": {
      "text/plain": "array(['Drug Offenses', 'Burglary', 'Agg ASLT-Other',\n       'Theft from Motor Vehicle', 'Larceny', 'Robbery-Street-Res',\n       'Simple Assault', 'Criminal Mischief-Vehicle', 'All Other Crimes',\n       'Criminal Mischief-Property', 'Robbery-Business',\n       'Weapons Offense', 'Auto Theft', 'Agg ASLT-Firearm',\n       'Criminal Mischief-Graffiti'], dtype=object)"
     },
     "execution_count": 4,
     "metadata": {},
     "output_type": "execute_result"
    }
   ],
   "source": [
    "df2['OFFENSE_CODE_GROUP'].unique()"
   ],
   "metadata": {
    "collapsed": false,
    "pycharm": {
     "name": "#%%\n"
    }
   }
  },
  {
   "cell_type": "markdown",
   "source": [
    "Formalize crime type data of Denver."
   ],
   "metadata": {
    "collapsed": false,
    "pycharm": {
     "name": "#%% md\n"
    }
   }
  },
  {
   "cell_type": "code",
   "execution_count": 5,
   "outputs": [],
   "source": [
    "ID_to_Group = {'Drug Offenses':'Drug Violation',\n",
    "               'Burglary':'Burglary - No Property Taken',\n",
    "               'Agg ASLT-Other':'Aggravated Assault',\n",
    "               'Theft from Motor Vehicle':'Auto Theft',\n",
    "               'Larceny':'Larceny',\n",
    "               'Simple Assault':'Simple Assault',\n",
    "               'Robbery-Street-Res':'Robbery',\n",
    "               'Criminal Mischief-Vehicle':'Other',\n",
    "               'All Other Crimes':'Other',\n",
    "               'Robbery-Business':'Robbery',\n",
    "               'Weapons Offense':'Firearm Discovery',\n",
    "               'Auto Theft':'Auto Theft',\n",
    "               'Agg ASLT-Firearm':'Firearm Violations',\n",
    "               'Criminal Mischief-Graffiti':'Other'\n",
    "               }\n",
    "df2['OFFENSE_CODE_GROUP'].map(ID_to_Group)\n",
    "Month = {'JAN':'01','FEB':'02','MAR':'03','APR':'04','MAY':'05','JUN':'06','JUL':'07','AUG':'08','SEP':'09','OCT':'10','NOV':'11','DEC':'12'}\n",
    "def date_modify(date):\n",
    "    date = str(date).split('-')\n",
    "    month = Month[date[1]]\n",
    "    year = '20' + date[2]\n",
    "    return year + '-' + month + '-' + date[0]\n",
    "df2['OCCURRED_ON_DATE'] = df2['OCCURRED_ON_DATE'].apply(date_modify)"
   ],
   "metadata": {
    "collapsed": false,
    "pycharm": {
     "name": "#%%\n"
    }
   }
  },
  {
   "cell_type": "markdown",
   "source": [
    "Output to csv for future using."
   ],
   "metadata": {
    "collapsed": false,
    "pycharm": {
     "name": "#%% md\n"
    }
   }
  },
  {
   "cell_type": "code",
   "execution_count": 6,
   "outputs": [],
   "source": [
    "df2.to_csv('data_modified/modified_marijuana_crime.csv', index = False)"
   ],
   "metadata": {
    "collapsed": false,
    "pycharm": {
     "name": "#%%\n"
    }
   }
  }
 ],
 "metadata": {
  "kernelspec": {
   "display_name": "Python 3",
   "language": "python",
   "name": "python3"
  },
  "language_info": {
   "codemirror_mode": {
    "name": "ipython",
    "version": 2
   },
   "file_extension": ".py",
   "mimetype": "text/x-python",
   "name": "python",
   "nbconvert_exporter": "python",
   "pygments_lexer": "ipython2",
   "version": "2.7.6"
  }
 },
 "nbformat": 4,
 "nbformat_minor": 0
}
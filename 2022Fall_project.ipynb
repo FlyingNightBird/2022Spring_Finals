{
 "cells": [
  {
   "cell_type": "code",
   "execution_count": 2,
   "metadata": {
    "collapsed": true
   },
   "outputs": [],
   "source": [
    "import numpy as np\n",
    "import pandas as pd\n",
    "import plotly.express as px"
   ]
  },
  {
   "cell_type": "code",
   "execution_count": 3,
   "outputs": [
    {
     "name": "stderr",
     "output_type": "stream",
     "text": [
      "D:\\anacoda\\lib\\site-packages\\IPython\\core\\interactiveshell.py:3444: DtypeWarning: Columns (6) have mixed types.Specify dtype option on import or set low_memory=False.\n",
      "  exec(code_obj, self.user_global_ns, self.user_ns)\n"
     ]
    }
   ],
   "source": [
    "df = pd.read_csv('boston.csv')"
   ],
   "metadata": {
    "collapsed": false,
    "pycharm": {
     "name": "#%%\n"
    }
   }
  },
  {
   "cell_type": "code",
   "execution_count": 4,
   "outputs": [
    {
     "data": {
      "text/plain": "  INCIDENT_NUMBER  OFFENSE_CODE OFFENSE_CODE_GROUP   OFFENSE_DESCRIPTION  \\\n0      I152071100          2611              Other  ABDUCTION - INTICING   \n1      I152054466          2611              Other  ABDUCTION - INTICING   \n2      I162018570          2611              Other  ABDUCTION - INTICING   \n3      I192018747          2611              Other  ABDUCTION - INTICING   \n4      I162001276          2611              Other  ABDUCTION - INTICING   \n\n  DISTRICT REPORTING_AREA SHOOTING     OCCURRED_ON_DATE  YEAR  MONTH  \\\n0       D4            151      NaN  2015-08-25 14:00:00  2015      8   \n1       B2            319      NaN  2015-07-01 20:30:00  2015      7   \n2       D4                     NaN  2016-03-09 17:28:00  2016      3   \n3       B2            179      NaN  2019-03-13 19:34:00  2019      3   \n4       B3            428      NaN  2016-01-05 16:12:00  2016      1   \n\n  DAY_OF_WEEK  HOUR  UCR_PART       STREET        Lat       Long  \\\n0     Tuesday    14  Part Two  BERKELEY ST  42.346465 -71.070704   \n1   Wednesday    20  Part Two    NAZING ST  42.306641 -71.085850   \n2   Wednesday    17  Part Two          NaN        NaN        NaN   \n3   Wednesday    19  Part Two          NaN        NaN        NaN   \n4     Tuesday    16  Part Two   NORFOLK ST  42.280566 -71.088017   \n\n                      Location  \n0  (42.34646505, -71.07070436)  \n1  (42.30664081, -71.08584976)  \n2     (0.00000000, 0.00000000)  \n3     (0.00000000, 0.00000000)  \n4  (42.28056608, -71.08801662)  ",
      "text/html": "<div>\n<style scoped>\n    .dataframe tbody tr th:only-of-type {\n        vertical-align: middle;\n    }\n\n    .dataframe tbody tr th {\n        vertical-align: top;\n    }\n\n    .dataframe thead th {\n        text-align: right;\n    }\n</style>\n<table border=\"1\" class=\"dataframe\">\n  <thead>\n    <tr style=\"text-align: right;\">\n      <th></th>\n      <th>INCIDENT_NUMBER</th>\n      <th>OFFENSE_CODE</th>\n      <th>OFFENSE_CODE_GROUP</th>\n      <th>OFFENSE_DESCRIPTION</th>\n      <th>DISTRICT</th>\n      <th>REPORTING_AREA</th>\n      <th>SHOOTING</th>\n      <th>OCCURRED_ON_DATE</th>\n      <th>YEAR</th>\n      <th>MONTH</th>\n      <th>DAY_OF_WEEK</th>\n      <th>HOUR</th>\n      <th>UCR_PART</th>\n      <th>STREET</th>\n      <th>Lat</th>\n      <th>Long</th>\n      <th>Location</th>\n    </tr>\n  </thead>\n  <tbody>\n    <tr>\n      <th>0</th>\n      <td>I152071100</td>\n      <td>2611</td>\n      <td>Other</td>\n      <td>ABDUCTION - INTICING</td>\n      <td>D4</td>\n      <td>151</td>\n      <td>NaN</td>\n      <td>2015-08-25 14:00:00</td>\n      <td>2015</td>\n      <td>8</td>\n      <td>Tuesday</td>\n      <td>14</td>\n      <td>Part Two</td>\n      <td>BERKELEY ST</td>\n      <td>42.346465</td>\n      <td>-71.070704</td>\n      <td>(42.34646505, -71.07070436)</td>\n    </tr>\n    <tr>\n      <th>1</th>\n      <td>I152054466</td>\n      <td>2611</td>\n      <td>Other</td>\n      <td>ABDUCTION - INTICING</td>\n      <td>B2</td>\n      <td>319</td>\n      <td>NaN</td>\n      <td>2015-07-01 20:30:00</td>\n      <td>2015</td>\n      <td>7</td>\n      <td>Wednesday</td>\n      <td>20</td>\n      <td>Part Two</td>\n      <td>NAZING ST</td>\n      <td>42.306641</td>\n      <td>-71.085850</td>\n      <td>(42.30664081, -71.08584976)</td>\n    </tr>\n    <tr>\n      <th>2</th>\n      <td>I162018570</td>\n      <td>2611</td>\n      <td>Other</td>\n      <td>ABDUCTION - INTICING</td>\n      <td>D4</td>\n      <td></td>\n      <td>NaN</td>\n      <td>2016-03-09 17:28:00</td>\n      <td>2016</td>\n      <td>3</td>\n      <td>Wednesday</td>\n      <td>17</td>\n      <td>Part Two</td>\n      <td>NaN</td>\n      <td>NaN</td>\n      <td>NaN</td>\n      <td>(0.00000000, 0.00000000)</td>\n    </tr>\n    <tr>\n      <th>3</th>\n      <td>I192018747</td>\n      <td>2611</td>\n      <td>Other</td>\n      <td>ABDUCTION - INTICING</td>\n      <td>B2</td>\n      <td>179</td>\n      <td>NaN</td>\n      <td>2019-03-13 19:34:00</td>\n      <td>2019</td>\n      <td>3</td>\n      <td>Wednesday</td>\n      <td>19</td>\n      <td>Part Two</td>\n      <td>NaN</td>\n      <td>NaN</td>\n      <td>NaN</td>\n      <td>(0.00000000, 0.00000000)</td>\n    </tr>\n    <tr>\n      <th>4</th>\n      <td>I162001276</td>\n      <td>2611</td>\n      <td>Other</td>\n      <td>ABDUCTION - INTICING</td>\n      <td>B3</td>\n      <td>428</td>\n      <td>NaN</td>\n      <td>2016-01-05 16:12:00</td>\n      <td>2016</td>\n      <td>1</td>\n      <td>Tuesday</td>\n      <td>16</td>\n      <td>Part Two</td>\n      <td>NORFOLK ST</td>\n      <td>42.280566</td>\n      <td>-71.088017</td>\n      <td>(42.28056608, -71.08801662)</td>\n    </tr>\n  </tbody>\n</table>\n</div>"
     },
     "execution_count": 4,
     "metadata": {},
     "output_type": "execute_result"
    }
   ],
   "source": [
    "df.head()"
   ],
   "metadata": {
    "collapsed": false,
    "pycharm": {
     "name": "#%%\n"
    }
   }
  },
  {
   "cell_type": "code",
   "execution_count": 5,
   "outputs": [
    {
     "data": {
      "text/plain": "        OFFENSE_CODE           YEAR          MONTH           HOUR  \\\ncount  525575.000000  525575.000000  525575.000000  525575.000000   \nmean     2332.260663    2017.591973       6.694575      13.073356   \nstd      1182.734163       1.566007       3.313055       6.350834   \nmin       111.000000    2015.000000       1.000000       0.000000   \n25%      1102.000000    2016.000000       4.000000       9.000000   \n50%      3005.000000    2018.000000       7.000000      14.000000   \n75%      3201.000000    2019.000000       9.000000      18.000000   \nmax      3831.000000    2020.000000      12.000000      23.000000   \n\n                 Lat           Long  \ncount  495821.000000  495821.000000  \nmean       42.240681     -70.952056  \nstd         1.872682       3.029333  \nmin        -1.000000     -71.203312  \n25%        42.296852     -71.097466  \n50%        42.325024     -71.077734  \n75%        42.348288     -71.062535  \nmax        42.395042       0.000000  ",
      "text/html": "<div>\n<style scoped>\n    .dataframe tbody tr th:only-of-type {\n        vertical-align: middle;\n    }\n\n    .dataframe tbody tr th {\n        vertical-align: top;\n    }\n\n    .dataframe thead th {\n        text-align: right;\n    }\n</style>\n<table border=\"1\" class=\"dataframe\">\n  <thead>\n    <tr style=\"text-align: right;\">\n      <th></th>\n      <th>OFFENSE_CODE</th>\n      <th>YEAR</th>\n      <th>MONTH</th>\n      <th>HOUR</th>\n      <th>Lat</th>\n      <th>Long</th>\n    </tr>\n  </thead>\n  <tbody>\n    <tr>\n      <th>count</th>\n      <td>525575.000000</td>\n      <td>525575.000000</td>\n      <td>525575.000000</td>\n      <td>525575.000000</td>\n      <td>495821.000000</td>\n      <td>495821.000000</td>\n    </tr>\n    <tr>\n      <th>mean</th>\n      <td>2332.260663</td>\n      <td>2017.591973</td>\n      <td>6.694575</td>\n      <td>13.073356</td>\n      <td>42.240681</td>\n      <td>-70.952056</td>\n    </tr>\n    <tr>\n      <th>std</th>\n      <td>1182.734163</td>\n      <td>1.566007</td>\n      <td>3.313055</td>\n      <td>6.350834</td>\n      <td>1.872682</td>\n      <td>3.029333</td>\n    </tr>\n    <tr>\n      <th>min</th>\n      <td>111.000000</td>\n      <td>2015.000000</td>\n      <td>1.000000</td>\n      <td>0.000000</td>\n      <td>-1.000000</td>\n      <td>-71.203312</td>\n    </tr>\n    <tr>\n      <th>25%</th>\n      <td>1102.000000</td>\n      <td>2016.000000</td>\n      <td>4.000000</td>\n      <td>9.000000</td>\n      <td>42.296852</td>\n      <td>-71.097466</td>\n    </tr>\n    <tr>\n      <th>50%</th>\n      <td>3005.000000</td>\n      <td>2018.000000</td>\n      <td>7.000000</td>\n      <td>14.000000</td>\n      <td>42.325024</td>\n      <td>-71.077734</td>\n    </tr>\n    <tr>\n      <th>75%</th>\n      <td>3201.000000</td>\n      <td>2019.000000</td>\n      <td>9.000000</td>\n      <td>18.000000</td>\n      <td>42.348288</td>\n      <td>-71.062535</td>\n    </tr>\n    <tr>\n      <th>max</th>\n      <td>3831.000000</td>\n      <td>2020.000000</td>\n      <td>12.000000</td>\n      <td>23.000000</td>\n      <td>42.395042</td>\n      <td>0.000000</td>\n    </tr>\n  </tbody>\n</table>\n</div>"
     },
     "execution_count": 5,
     "metadata": {},
     "output_type": "execute_result"
    }
   ],
   "source": [
    "df.describe()"
   ],
   "metadata": {
    "collapsed": false,
    "pycharm": {
     "name": "#%%\n"
    }
   }
  },
  {
   "cell_type": "code",
   "execution_count": 6,
   "outputs": [
    {
     "name": "stdout",
     "output_type": "stream",
     "text": [
      "<class 'pandas.core.frame.DataFrame'>\n",
      "RangeIndex: 525575 entries, 0 to 525574\n",
      "Data columns (total 17 columns):\n",
      " #   Column               Non-Null Count   Dtype  \n",
      "---  ------               --------------   -----  \n",
      " 0   INCIDENT_NUMBER      525575 non-null  object \n",
      " 1   OFFENSE_CODE         525575 non-null  int64  \n",
      " 2   OFFENSE_CODE_GROUP   426839 non-null  object \n",
      " 3   OFFENSE_DESCRIPTION  525575 non-null  object \n",
      " 4   DISTRICT             523113 non-null  object \n",
      " 5   REPORTING_AREA       525575 non-null  object \n",
      " 6   SHOOTING             100482 non-null  object \n",
      " 7   OCCURRED_ON_DATE     525575 non-null  object \n",
      " 8   YEAR                 525575 non-null  int64  \n",
      " 9   MONTH                525575 non-null  int64  \n",
      " 10  DAY_OF_WEEK          525575 non-null  object \n",
      " 11  HOUR                 525575 non-null  int64  \n",
      " 12  UCR_PART             426729 non-null  object \n",
      " 13  STREET               504386 non-null  object \n",
      " 14  Lat                  495821 non-null  float64\n",
      " 15  Long                 495821 non-null  float64\n",
      " 16  Location             525575 non-null  object \n",
      "dtypes: float64(2), int64(4), object(11)\n",
      "memory usage: 68.2+ MB\n"
     ]
    }
   ],
   "source": [
    "df.info()"
   ],
   "metadata": {
    "collapsed": false,
    "pycharm": {
     "name": "#%%\n"
    }
   }
  },
  {
   "cell_type": "code",
   "execution_count": 7,
   "outputs": [
    {
     "data": {
      "text/plain": "INCIDENT_NUMBER             0\nOFFENSE_CODE                0\nOFFENSE_CODE_GROUP      98736\nOFFENSE_DESCRIPTION         0\nDISTRICT                 2462\nREPORTING_AREA              0\nSHOOTING               425093\nOCCURRED_ON_DATE            0\nYEAR                        0\nMONTH                       0\nDAY_OF_WEEK                 0\nHOUR                        0\nUCR_PART                98846\nSTREET                  21189\nLat                     29754\nLong                    29754\nLocation                    0\ndtype: int64"
     },
     "execution_count": 7,
     "metadata": {},
     "output_type": "execute_result"
    }
   ],
   "source": [
    "df.isnull().sum()"
   ],
   "metadata": {
    "collapsed": false,
    "pycharm": {
     "name": "#%%\n"
    }
   }
  },
  {
   "cell_type": "code",
   "execution_count": 8,
   "outputs": [
    {
     "data": {
      "text/plain": "   YEAR                OFFENSE_CODE_GROUP  OFFENSE_CODE\n0  2015                Aggravated Assault          1415\n1  2015                          Aircraft             4\n2  2015                             Arson            11\n3  2015  Assembly or Gathering Violations           240\n4  2015                        Auto Theft           988",
      "text/html": "<div>\n<style scoped>\n    .dataframe tbody tr th:only-of-type {\n        vertical-align: middle;\n    }\n\n    .dataframe tbody tr th {\n        vertical-align: top;\n    }\n\n    .dataframe thead th {\n        text-align: right;\n    }\n</style>\n<table border=\"1\" class=\"dataframe\">\n  <thead>\n    <tr style=\"text-align: right;\">\n      <th></th>\n      <th>YEAR</th>\n      <th>OFFENSE_CODE_GROUP</th>\n      <th>OFFENSE_CODE</th>\n    </tr>\n  </thead>\n  <tbody>\n    <tr>\n      <th>0</th>\n      <td>2015</td>\n      <td>Aggravated Assault</td>\n      <td>1415</td>\n    </tr>\n    <tr>\n      <th>1</th>\n      <td>2015</td>\n      <td>Aircraft</td>\n      <td>4</td>\n    </tr>\n    <tr>\n      <th>2</th>\n      <td>2015</td>\n      <td>Arson</td>\n      <td>11</td>\n    </tr>\n    <tr>\n      <th>3</th>\n      <td>2015</td>\n      <td>Assembly or Gathering Violations</td>\n      <td>240</td>\n    </tr>\n    <tr>\n      <th>4</th>\n      <td>2015</td>\n      <td>Auto Theft</td>\n      <td>988</td>\n    </tr>\n  </tbody>\n</table>\n</div>"
     },
     "execution_count": 8,
     "metadata": {},
     "output_type": "execute_result"
    }
   ],
   "source": [
    "from matplotlib import pyplot as plt\n",
    "\n",
    "grouped_df = df.groupby(['YEAR','OFFENSE_CODE_GROUP']).agg({'OFFENSE_CODE':'count'}).reset_index()\n",
    "grouped_df.head()\n",
    "\n"
   ],
   "metadata": {
    "collapsed": false,
    "pycharm": {
     "name": "#%%\n"
    }
   }
  },
  {
   "cell_type": "code",
   "execution_count": 9,
   "outputs": [
    {
     "data": {
      "text/plain": "Text(0.5, 1.0, 'Top 10 offense groups')"
     },
     "execution_count": 9,
     "metadata": {},
     "output_type": "execute_result"
    },
    {
     "data": {
      "text/plain": "<Figure size 720x576 with 1 Axes>",
      "image/png": "[encoded data removed]"
     },
     "metadata": {
      "needs_background": "light"
     },
     "output_type": "display_data"
    }
   ],
   "source": [
    "top_10 = df['OFFENSE_CODE_GROUP'].value_counts()[:10]\n",
    "top_10.plot(kind='bar',figsize=(10,8))\n",
    "plt.title('Top 10 offense groups')"
   ],
   "metadata": {
    "collapsed": false,
    "pycharm": {
     "name": "#%%\n"
    }
   }
  },
  {
   "cell_type": "code",
   "execution_count": 9,
   "outputs": [],
   "source": [],
   "metadata": {
    "collapsed": false,
    "pycharm": {
     "name": "#%%\n"
    }
   }
  }
 ],
 "metadata": {
  "kernelspec": {
   "display_name": "Python 3",
   "language": "python",
   "name": "python3"
  },
  "language_info": {
   "codemirror_mode": {
    "name": "ipython",
    "version": 2
   },
   "file_extension": ".py",
   "mimetype": "text/x-python",
   "name": "python",
   "nbconvert_exporter": "python",
   "pygments_lexer": "ipython2",
   "version": "2.7.6"
  }
 },
 "nbformat": 4,
 "nbformat_minor": 0
}
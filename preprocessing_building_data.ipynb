{
 "cells": [
  {
   "cell_type": "markdown",
   "source": [
    "# Building Data"
   ],
   "metadata": {
    "collapsed": false,
    "pycharm": {
     "name": "#%% md\n"
    }
   }
  },
  {
   "cell_type": "code",
   "execution_count": 47,
   "outputs": [],
   "source": [
    "import pandas as pd\n",
    "import numpy as np\n",
    "import matplotlib.pyplot as plt"
   ],
   "metadata": {
    "collapsed": false,
    "pycharm": {
     "name": "#%%\n"
    }
   }
  },
  {
   "cell_type": "code",
   "execution_count": 28,
   "outputs": [
    {
     "name": "stderr",
     "output_type": "stream",
     "text": [
      "/Users/Quentin/opt/anaconda3/lib/python3.9/site-packages/IPython/core/interactiveshell.py:3444: DtypeWarning: Columns (1,40,44,47,51,53) have mixed types.Specify dtype option on import or set low_memory=False.\n",
      "  exec(code_obj, self.user_global_ns, self.user_ns)\n"
     ]
    },
    {
     "data": {
      "text/plain": "      id    pid_long  cm_id    building_typology  \\\n0  88905         NaN    NaN                  NaN   \n1  51137  1600083000    NaN        Single-Family   \n2  18045   202560000    NaN        Single-Family   \n3  94001  2200577000    NaN  Convention/Assembly   \n4  92940  1600058000    NaN                  NaN   \n\n             building_subtypology              use_class     sqft_class  \\\n0                             NaN                    NaN            NaN   \n1        Single-Family, 1915-1949            Residential  < 25,000 sqft   \n2         Single-Family, Pre-1915            Residential  < 25,000 sqft   \n3  Convention/Assembly, 1950-1979  Public & Quasi-Public  < 25,000 sqft   \n4                             NaN                    NaN            NaN   \n\n  year_built_class st_num  st_name  ... insulate_exposed_ducts  \\\n0              NaN    NaN      NaN  ...                      f   \n1        1915-1949      5  EVERETT  ...                      f   \n2         Pre-1915     43    ESSEX  ...                      f   \n3        1950-1979    525  WESTERN  ...                      f   \n4              NaN    NaN      NaN  ...                      f   \n\n   insulate_exposed_pipes  interior_wall_insulation_blow_in  \\\n0                       f                                 f   \n1                       t                                 f   \n2                       t                                 f   \n3                       f                                 f   \n4                       f                                 f   \n\n   exterior_wall_insulation_at_replacement  exterior_wall_insulation  \\\n0                                        f                         f   \n1                                        f                         t   \n2                                        f                         f   \n3                                        f                         f   \n4                                        f                         f   \n\n   interior_wall_insulation_board  insulate_spandrel  asbestos  \\\n0                               f                  f         f   \n1                               t                  f         f   \n2                               t                  f         f   \n3                               f                  f         f   \n4                               f                  f         f   \n\n   seal_elevator_vent_shafts  env_recommendation_count  \n0                          f                         0  \n1                          f                         4  \n2                          f                         3  \n3                          f                         0  \n4                          f                         0  \n\n[5 rows x 107 columns]",
      "text/html": "<div>\n<style scoped>\n    .dataframe tbody tr th:only-of-type {\n        vertical-align: middle;\n    }\n\n    .dataframe tbody tr th {\n        vertical-align: top;\n    }\n\n    .dataframe thead th {\n        text-align: right;\n    }\n</style>\n<table border=\"1\" class=\"dataframe\">\n  <thead>\n    <tr style=\"text-align: right;\">\n      <th></th>\n      <th>id</th>\n      <th>pid_long</th>\n      <th>cm_id</th>\n      <th>building_typology</th>\n      <th>building_subtypology</th>\n      <th>use_class</th>\n      <th>sqft_class</th>\n      <th>year_built_class</th>\n      <th>st_num</th>\n      <th>st_name</th>\n      <th>...</th>\n      <th>insulate_exposed_ducts</th>\n      <th>insulate_exposed_pipes</th>\n      <th>interior_wall_insulation_blow_in</th>\n      <th>exterior_wall_insulation_at_replacement</th>\n      <th>exterior_wall_insulation</th>\n      <th>interior_wall_insulation_board</th>\n      <th>insulate_spandrel</th>\n      <th>asbestos</th>\n      <th>seal_elevator_vent_shafts</th>\n      <th>env_recommendation_count</th>\n    </tr>\n  </thead>\n  <tbody>\n    <tr>\n      <th>0</th>\n      <td>88905</td>\n      <td>NaN</td>\n      <td>NaN</td>\n      <td>NaN</td>\n      <td>NaN</td>\n      <td>NaN</td>\n      <td>NaN</td>\n      <td>NaN</td>\n      <td>NaN</td>\n      <td>NaN</td>\n      <td>...</td>\n      <td>f</td>\n      <td>f</td>\n      <td>f</td>\n      <td>f</td>\n      <td>f</td>\n      <td>f</td>\n      <td>f</td>\n      <td>f</td>\n      <td>f</td>\n      <td>0</td>\n    </tr>\n    <tr>\n      <th>1</th>\n      <td>51137</td>\n      <td>1600083000</td>\n      <td>NaN</td>\n      <td>Single-Family</td>\n      <td>Single-Family, 1915-1949</td>\n      <td>Residential</td>\n      <td>&lt; 25,000 sqft</td>\n      <td>1915-1949</td>\n      <td>5</td>\n      <td>EVERETT</td>\n      <td>...</td>\n      <td>f</td>\n      <td>t</td>\n      <td>f</td>\n      <td>f</td>\n      <td>t</td>\n      <td>t</td>\n      <td>f</td>\n      <td>f</td>\n      <td>f</td>\n      <td>4</td>\n    </tr>\n    <tr>\n      <th>2</th>\n      <td>18045</td>\n      <td>202560000</td>\n      <td>NaN</td>\n      <td>Single-Family</td>\n      <td>Single-Family, Pre-1915</td>\n      <td>Residential</td>\n      <td>&lt; 25,000 sqft</td>\n      <td>Pre-1915</td>\n      <td>43</td>\n      <td>ESSEX</td>\n      <td>...</td>\n      <td>f</td>\n      <td>t</td>\n      <td>f</td>\n      <td>f</td>\n      <td>f</td>\n      <td>t</td>\n      <td>f</td>\n      <td>f</td>\n      <td>f</td>\n      <td>3</td>\n    </tr>\n    <tr>\n      <th>3</th>\n      <td>94001</td>\n      <td>2200577000</td>\n      <td>NaN</td>\n      <td>Convention/Assembly</td>\n      <td>Convention/Assembly, 1950-1979</td>\n      <td>Public &amp; Quasi-Public</td>\n      <td>&lt; 25,000 sqft</td>\n      <td>1950-1979</td>\n      <td>525</td>\n      <td>WESTERN</td>\n      <td>...</td>\n      <td>f</td>\n      <td>f</td>\n      <td>f</td>\n      <td>f</td>\n      <td>f</td>\n      <td>f</td>\n      <td>f</td>\n      <td>f</td>\n      <td>f</td>\n      <td>0</td>\n    </tr>\n    <tr>\n      <th>4</th>\n      <td>92940</td>\n      <td>1600058000</td>\n      <td>NaN</td>\n      <td>NaN</td>\n      <td>NaN</td>\n      <td>NaN</td>\n      <td>NaN</td>\n      <td>NaN</td>\n      <td>NaN</td>\n      <td>NaN</td>\n      <td>...</td>\n      <td>f</td>\n      <td>f</td>\n      <td>f</td>\n      <td>f</td>\n      <td>f</td>\n      <td>f</td>\n      <td>f</td>\n      <td>f</td>\n      <td>f</td>\n      <td>0</td>\n    </tr>\n  </tbody>\n</table>\n<p>5 rows × 107 columns</p>\n</div>"
     },
     "execution_count": 28,
     "metadata": {},
     "output_type": "execute_result"
    }
   ],
   "source": [
    "boston_bldg_all = pd.read_csv('data/boston_building_inventory.csv')\n",
    "boston_bldg_all.head()"
   ],
   "metadata": {
    "collapsed": false,
    "pycharm": {
     "name": "#%%\n"
    }
   }
  },
  {
   "cell_type": "code",
   "execution_count": 32,
   "outputs": [
    {
     "data": {
      "text/plain": "          id       building_typology              use_class year_built_class  \\\n0      88905                     NaN                    NaN              NaN   \n1      51137           Single-Family            Residential        1915-1949   \n2      18045           Single-Family            Residential         Pre-1915   \n3      94001     Convention/Assembly  Public & Quasi-Public        1950-1979   \n4      92940                     NaN                    NaN              NaN   \n...      ...                     ...                    ...              ...   \n98925  66236  Multi-Family (2 units)            Residential     1980-present   \n98926  68980           Single-Family            Residential     1980-present   \n98927  95554           Single-Family            Residential     1980-present   \n98928  58753  Multi-Family (2 units)            Residential     1980-present   \n98929   6205           Single-Family            Residential              NaN   \n\n        st_name st_name_suf  ptype   lu  ct_perc_children_under_5  \\\n0           NaN         NaN    NaN  NaN                       NaN   \n1       EVERETT          ST  101.0   R1                 20.926988   \n2         ESSEX          ST  101.0   R1                 21.730217   \n3       WESTERN          AV  941.0    E                       NaN   \n4           NaN         NaN    NaN  NaN                 20.926988   \n...         ...         ...    ...  ...                       ...   \n98925       NaN         NaN  102.0   CD                 10.828648   \n98926    AVALON          RD  101.0   R1                 19.217745   \n98927  GERRISH           ST  101.0   R1                 10.218978   \n98928       NaN         NaN  102.0   CD                 21.818650   \n98929   PERKINS          ST  101.0   R1                 12.867327   \n\n       ct_perc_over_65  ct_perc_income_200000_or_more  \\\n0                  NaN                            NaN   \n1             9.145869                       4.186655   \n2            16.892169                      18.404908   \n3                  NaN                            NaN   \n4             9.145869                       4.186655   \n...                ...                            ...   \n98925        14.910780                       4.820694   \n98926        17.660007                      10.875706   \n98927        13.029197                      10.531221   \n98928         6.671819                      23.878365   \n98929         7.007477                      16.701828   \n\n       ct_perc_low_to_no_income  \n0                           NaN  \n1                     37.219036  \n2                     19.762198  \n3                           NaN  \n4                     37.219036  \n...                         ...  \n98925                 38.572476  \n98926                  6.417203  \n98927                 13.832117  \n98928                 19.732097  \n98929                 19.961746  \n\n[98930 rows x 12 columns]",
      "text/html": "<div>\n<style scoped>\n    .dataframe tbody tr th:only-of-type {\n        vertical-align: middle;\n    }\n\n    .dataframe tbody tr th {\n        vertical-align: top;\n    }\n\n    .dataframe thead th {\n        text-align: right;\n    }\n</style>\n<table border=\"1\" class=\"dataframe\">\n  <thead>\n    <tr style=\"text-align: right;\">\n      <th></th>\n      <th>id</th>\n      <th>building_typology</th>\n      <th>use_class</th>\n      <th>year_built_class</th>\n      <th>st_name</th>\n      <th>st_name_suf</th>\n      <th>ptype</th>\n      <th>lu</th>\n      <th>ct_perc_children_under_5</th>\n      <th>ct_perc_over_65</th>\n      <th>ct_perc_income_200000_or_more</th>\n      <th>ct_perc_low_to_no_income</th>\n    </tr>\n  </thead>\n  <tbody>\n    <tr>\n      <th>0</th>\n      <td>88905</td>\n      <td>NaN</td>\n      <td>NaN</td>\n      <td>NaN</td>\n      <td>NaN</td>\n      <td>NaN</td>\n      <td>NaN</td>\n      <td>NaN</td>\n      <td>NaN</td>\n      <td>NaN</td>\n      <td>NaN</td>\n      <td>NaN</td>\n    </tr>\n    <tr>\n      <th>1</th>\n      <td>51137</td>\n      <td>Single-Family</td>\n      <td>Residential</td>\n      <td>1915-1949</td>\n      <td>EVERETT</td>\n      <td>ST</td>\n      <td>101.0</td>\n      <td>R1</td>\n      <td>20.926988</td>\n      <td>9.145869</td>\n      <td>4.186655</td>\n      <td>37.219036</td>\n    </tr>\n    <tr>\n      <th>2</th>\n      <td>18045</td>\n      <td>Single-Family</td>\n      <td>Residential</td>\n      <td>Pre-1915</td>\n      <td>ESSEX</td>\n      <td>ST</td>\n      <td>101.0</td>\n      <td>R1</td>\n      <td>21.730217</td>\n      <td>16.892169</td>\n      <td>18.404908</td>\n      <td>19.762198</td>\n    </tr>\n    <tr>\n      <th>3</th>\n      <td>94001</td>\n      <td>Convention/Assembly</td>\n      <td>Public &amp; Quasi-Public</td>\n      <td>1950-1979</td>\n      <td>WESTERN</td>\n      <td>AV</td>\n      <td>941.0</td>\n      <td>E</td>\n      <td>NaN</td>\n      <td>NaN</td>\n      <td>NaN</td>\n      <td>NaN</td>\n    </tr>\n    <tr>\n      <th>4</th>\n      <td>92940</td>\n      <td>NaN</td>\n      <td>NaN</td>\n      <td>NaN</td>\n      <td>NaN</td>\n      <td>NaN</td>\n      <td>NaN</td>\n      <td>NaN</td>\n      <td>20.926988</td>\n      <td>9.145869</td>\n      <td>4.186655</td>\n      <td>37.219036</td>\n    </tr>\n    <tr>\n      <th>...</th>\n      <td>...</td>\n      <td>...</td>\n      <td>...</td>\n      <td>...</td>\n      <td>...</td>\n      <td>...</td>\n      <td>...</td>\n      <td>...</td>\n      <td>...</td>\n      <td>...</td>\n      <td>...</td>\n      <td>...</td>\n    </tr>\n    <tr>\n      <th>98925</th>\n      <td>66236</td>\n      <td>Multi-Family (2 units)</td>\n      <td>Residential</td>\n      <td>1980-present</td>\n      <td>NaN</td>\n      <td>NaN</td>\n      <td>102.0</td>\n      <td>CD</td>\n      <td>10.828648</td>\n      <td>14.910780</td>\n      <td>4.820694</td>\n      <td>38.572476</td>\n    </tr>\n    <tr>\n      <th>98926</th>\n      <td>68980</td>\n      <td>Single-Family</td>\n      <td>Residential</td>\n      <td>1980-present</td>\n      <td>AVALON</td>\n      <td>RD</td>\n      <td>101.0</td>\n      <td>R1</td>\n      <td>19.217745</td>\n      <td>17.660007</td>\n      <td>10.875706</td>\n      <td>6.417203</td>\n    </tr>\n    <tr>\n      <th>98927</th>\n      <td>95554</td>\n      <td>Single-Family</td>\n      <td>Residential</td>\n      <td>1980-present</td>\n      <td>GERRISH</td>\n      <td>ST</td>\n      <td>101.0</td>\n      <td>R1</td>\n      <td>10.218978</td>\n      <td>13.029197</td>\n      <td>10.531221</td>\n      <td>13.832117</td>\n    </tr>\n    <tr>\n      <th>98928</th>\n      <td>58753</td>\n      <td>Multi-Family (2 units)</td>\n      <td>Residential</td>\n      <td>1980-present</td>\n      <td>NaN</td>\n      <td>NaN</td>\n      <td>102.0</td>\n      <td>CD</td>\n      <td>21.818650</td>\n      <td>6.671819</td>\n      <td>23.878365</td>\n      <td>19.732097</td>\n    </tr>\n    <tr>\n      <th>98929</th>\n      <td>6205</td>\n      <td>Single-Family</td>\n      <td>Residential</td>\n      <td>NaN</td>\n      <td>PERKINS</td>\n      <td>ST</td>\n      <td>101.0</td>\n      <td>R1</td>\n      <td>12.867327</td>\n      <td>7.007477</td>\n      <td>16.701828</td>\n      <td>19.961746</td>\n    </tr>\n  </tbody>\n</table>\n<p>98930 rows × 12 columns</p>\n</div>"
     },
     "execution_count": 32,
     "metadata": {},
     "output_type": "execute_result"
    }
   ],
   "source": [
    "boston_bldg = boston_bldg_all[['id', 'building_typology', 'use_class', 'year_built_class', 'st_name', 'st_name_suf', 'ptype', 'lu', 'ct_perc_children_under_5', 'ct_perc_over_65', 'ct_perc_income_200000_or_more', 'ct_perc_low_to_no_income']]\n",
    "boston_bldg"
   ],
   "metadata": {
    "collapsed": false,
    "pycharm": {
     "name": "#%%\n"
    }
   }
  },
  {
   "cell_type": "code",
   "execution_count": 54,
   "outputs": [
    {
     "name": "stderr",
     "output_type": "stream",
     "text": [
      "/var/folders/vz/rdt2gv7d2mqft7p3lsdk5hz40000gn/T/ipykernel_23320/1542254690.py:1: SettingWithCopyWarning: \n",
      "A value is trying to be set on a copy of a slice from a DataFrame.\n",
      "Try using .loc[row_indexer,col_indexer] = value instead\n",
      "\n",
      "See the caveats in the documentation: https://pandas.pydata.org/pandas-docs/stable/user_guide/indexing.html#returning-a-view-versus-a-copy\n",
      "  boston_bldg['st_name'] = boston_bldg['st_name'].str.strip()\n",
      "/var/folders/vz/rdt2gv7d2mqft7p3lsdk5hz40000gn/T/ipykernel_23320/1542254690.py:2: SettingWithCopyWarning: \n",
      "A value is trying to be set on a copy of a slice from a DataFrame.\n",
      "Try using .loc[row_indexer,col_indexer] = value instead\n",
      "\n",
      "See the caveats in the documentation: https://pandas.pydata.org/pandas-docs/stable/user_guide/indexing.html#returning-a-view-versus-a-copy\n",
      "  boston_bldg['st_name_suf'] = boston_bldg['st_name_suf'].str.strip()\n",
      "/var/folders/vz/rdt2gv7d2mqft7p3lsdk5hz40000gn/T/ipykernel_23320/1542254690.py:3: SettingWithCopyWarning: \n",
      "A value is trying to be set on a copy of a slice from a DataFrame.\n",
      "Try using .loc[row_indexer,col_indexer] = value instead\n",
      "\n",
      "See the caveats in the documentation: https://pandas.pydata.org/pandas-docs/stable/user_guide/indexing.html#returning-a-view-versus-a-copy\n",
      "  boston_bldg['st_loc'] = boston_bldg['st_name'] + ' ' + boston_bldg['st_name_suf']\n",
      "/Users/Quentin/opt/anaconda3/lib/python3.9/site-packages/pandas/util/_decorators.py:311: SettingWithCopyWarning: \n",
      "A value is trying to be set on a copy of a slice from a DataFrame\n",
      "\n",
      "See the caveats in the documentation: https://pandas.pydata.org/pandas-docs/stable/user_guide/indexing.html#returning-a-view-versus-a-copy\n",
      "  return func(*args, **kwargs)\n"
     ]
    },
    {
     "data": {
      "text/plain": "      id    building_typology              use_class year_built_class  \\\n1  51137        Single-Family            Residential        1915-1949   \n2  18045        Single-Family            Residential         Pre-1915   \n3  94001  Convention/Assembly  Public & Quasi-Public        1950-1979   \n5  29815               Vacant                 Vacant              NaN   \n6  75767               Vacant                 Vacant              NaN   \n\n     st_name st_name_suf  ptype  lu  ct_perc_children_under_5  \\\n1    EVERETT          ST  101.0  R1                 20.926988   \n2      ESSEX          ST  101.0  R1                 21.730217   \n3    WESTERN          AV  941.0   E                       NaN   \n5     SEARLE          RD  132.0  RL                 22.720072   \n6  HYDE PARK          AV  390.0  CL                 24.054422   \n\n   ct_perc_over_65  ct_perc_income_200000_or_more  ct_perc_low_to_no_income  \\\n1         9.145869                       4.186655                 37.219036   \n2        16.892169                      18.404908                 19.762198   \n3              NaN                            NaN                       NaN   \n5        15.614392                      24.619565                  4.254356   \n6        10.503401                       5.499276                 19.619048   \n\n         st_loc  \n1    EVERETT ST  \n2      ESSEX ST  \n3    WESTERN AV  \n5     SEARLE RD  \n6  HYDE PARK AV  ",
      "text/html": "<div>\n<style scoped>\n    .dataframe tbody tr th:only-of-type {\n        vertical-align: middle;\n    }\n\n    .dataframe tbody tr th {\n        vertical-align: top;\n    }\n\n    .dataframe thead th {\n        text-align: right;\n    }\n</style>\n<table border=\"1\" class=\"dataframe\">\n  <thead>\n    <tr style=\"text-align: right;\">\n      <th></th>\n      <th>id</th>\n      <th>building_typology</th>\n      <th>use_class</th>\n      <th>year_built_class</th>\n      <th>st_name</th>\n      <th>st_name_suf</th>\n      <th>ptype</th>\n      <th>lu</th>\n      <th>ct_perc_children_under_5</th>\n      <th>ct_perc_over_65</th>\n      <th>ct_perc_income_200000_or_more</th>\n      <th>ct_perc_low_to_no_income</th>\n      <th>st_loc</th>\n    </tr>\n  </thead>\n  <tbody>\n    <tr>\n      <th>1</th>\n      <td>51137</td>\n      <td>Single-Family</td>\n      <td>Residential</td>\n      <td>1915-1949</td>\n      <td>EVERETT</td>\n      <td>ST</td>\n      <td>101.0</td>\n      <td>R1</td>\n      <td>20.926988</td>\n      <td>9.145869</td>\n      <td>4.186655</td>\n      <td>37.219036</td>\n      <td>EVERETT ST</td>\n    </tr>\n    <tr>\n      <th>2</th>\n      <td>18045</td>\n      <td>Single-Family</td>\n      <td>Residential</td>\n      <td>Pre-1915</td>\n      <td>ESSEX</td>\n      <td>ST</td>\n      <td>101.0</td>\n      <td>R1</td>\n      <td>21.730217</td>\n      <td>16.892169</td>\n      <td>18.404908</td>\n      <td>19.762198</td>\n      <td>ESSEX ST</td>\n    </tr>\n    <tr>\n      <th>3</th>\n      <td>94001</td>\n      <td>Convention/Assembly</td>\n      <td>Public &amp; Quasi-Public</td>\n      <td>1950-1979</td>\n      <td>WESTERN</td>\n      <td>AV</td>\n      <td>941.0</td>\n      <td>E</td>\n      <td>NaN</td>\n      <td>NaN</td>\n      <td>NaN</td>\n      <td>NaN</td>\n      <td>WESTERN AV</td>\n    </tr>\n    <tr>\n      <th>5</th>\n      <td>29815</td>\n      <td>Vacant</td>\n      <td>Vacant</td>\n      <td>NaN</td>\n      <td>SEARLE</td>\n      <td>RD</td>\n      <td>132.0</td>\n      <td>RL</td>\n      <td>22.720072</td>\n      <td>15.614392</td>\n      <td>24.619565</td>\n      <td>4.254356</td>\n      <td>SEARLE RD</td>\n    </tr>\n    <tr>\n      <th>6</th>\n      <td>75767</td>\n      <td>Vacant</td>\n      <td>Vacant</td>\n      <td>NaN</td>\n      <td>HYDE PARK</td>\n      <td>AV</td>\n      <td>390.0</td>\n      <td>CL</td>\n      <td>24.054422</td>\n      <td>10.503401</td>\n      <td>5.499276</td>\n      <td>19.619048</td>\n      <td>HYDE PARK AV</td>\n    </tr>\n  </tbody>\n</table>\n</div>"
     },
     "execution_count": 54,
     "metadata": {},
     "output_type": "execute_result"
    }
   ],
   "source": [
    "boston_bldg['st_name'] = boston_bldg['st_name'].str.strip()\n",
    "boston_bldg['st_name_suf'] = boston_bldg['st_name_suf'].str.strip()\n",
    "boston_bldg['st_loc'] = boston_bldg['st_name'] + ' ' + boston_bldg['st_name_suf']\n",
    "boston_bldg.dropna(subset=['st_loc'], inplace=True)\n",
    "boston_bldg.head()"
   ],
   "metadata": {
    "collapsed": false,
    "pycharm": {
     "name": "#%%\n"
    }
   }
  },
  {
   "cell_type": "code",
   "execution_count": 56,
   "outputs": [],
   "source": [
    "boston_bldg.to_csv('prep_data/boston_bldg_st.csv', encoding='utf-8', index=False)"
   ],
   "metadata": {
    "collapsed": false,
    "pycharm": {
     "name": "#%%\n"
    }
   }
  },
  {
   "cell_type": "code",
   "execution_count": 60,
   "outputs": [
    {
     "data": {
      "text/plain": "st_loc      use_class              \nA ST        Commercial                 10\n            Industrial                  1\n            Public & Quasi-Public       2\n            Residential (Mixed-Use)     3\n            Vacant                     16\n                                       ..\nZAMORA ST   Vacant                      2\nZEIGLER ST  Commercial                  1\n            Residential                 2\n            Vacant                      2\nZELLER ST   Residential                25\nLength: 8438, dtype: int64"
     },
     "execution_count": 60,
     "metadata": {},
     "output_type": "execute_result"
    }
   ],
   "source": [
    "# group by use_class\n",
    "boston_bldg_by_use_class = boston_bldg.groupby(['st_loc', 'use_class']).size()\n",
    "boston_bldg_by_use_class.to_csv('prep_data/boston_bldg_by_use_class.csv', encoding='utf-8')\n",
    "boston_bldg_by_use_class"
   ],
   "metadata": {
    "collapsed": false,
    "pycharm": {
     "name": "#%%\n"
    }
   }
  },
  {
   "cell_type": "code",
   "execution_count": 61,
   "outputs": [
    {
     "data": {
      "text/plain": "st_loc      building_typology      \nA ST        Garage                      4\n            Medical/Lab/Production      1\n            Office                      2\n            Residential (Mixed-Use)     3\n            Restaurant                  1\n                                       ..\nZEIGLER ST  Multi-Family (3 units)      1\n            Retail                      1\n            Vacant                      2\nZELLER ST   Multi-Family (2 units)      5\n            Single-Family              20\nLength: 13348, dtype: int64"
     },
     "execution_count": 61,
     "metadata": {},
     "output_type": "execute_result"
    }
   ],
   "source": [
    "# group by building_typology\n",
    "boston_bldg_by_building_typology = boston_bldg.groupby(['st_loc', 'building_typology']).size()\n",
    "boston_bldg_by_building_typology.to_csv('prep_data/boston_bldg_by_building_typology.csv', encoding='utf-8')\n",
    "boston_bldg_by_building_typology"
   ],
   "metadata": {
    "collapsed": false,
    "pycharm": {
     "name": "#%%\n"
    }
   }
  },
  {
   "cell_type": "code",
   "execution_count": 69,
   "outputs": [
    {
     "data": {
      "text/plain": "st_loc      ptype\nA ST        13.0      1\n            25.0      2\n            317.0     3\n            326.0     1\n            332.0     1\n                     ..\nZEIGLER ST  132.0     1\n            319.0     1\n            390.0     1\nZELLER ST   101.0    20\n            104.0     5\nLength: 18241, dtype: int64"
     },
     "execution_count": 69,
     "metadata": {},
     "output_type": "execute_result"
    }
   ],
   "source": [
    "# group by ptype\n",
    "boston_bldg_by_ptype = boston_bldg.groupby(['st_loc', 'ptype']).size()\n",
    "boston_bldg_by_ptype.to_csv('prep_data/boston_bldg_by_ptype.csv', encoding='utf-8')\n",
    "boston_bldg_by_ptype"
   ],
   "metadata": {
    "collapsed": false,
    "pycharm": {
     "name": "#%%\n"
    }
   }
  },
  {
   "cell_type": "code",
   "execution_count": 62,
   "outputs": [
    {
     "data": {
      "text/plain": "              ct_perc_children_under_5\n                                  mean\nst_loc                                \nA ST                          7.760494\nABBOT ST                     32.859579\nABBOTSFORD ST                22.600321\nABBY RD                       9.167842\nABERDEEN ST                   0.409707\n...                                ...\nYUILL CI                     17.664093\nZAMORA CT                     8.589871\nZAMORA ST                     8.589871\nZEIGLER ST                   29.704797\nZELLER ST                    15.205830\n\n[4075 rows x 1 columns]",
      "text/html": "<div>\n<style scoped>\n    .dataframe tbody tr th:only-of-type {\n        vertical-align: middle;\n    }\n\n    .dataframe tbody tr th {\n        vertical-align: top;\n    }\n\n    .dataframe thead tr th {\n        text-align: left;\n    }\n\n    .dataframe thead tr:last-of-type th {\n        text-align: right;\n    }\n</style>\n<table border=\"1\" class=\"dataframe\">\n  <thead>\n    <tr>\n      <th></th>\n      <th>ct_perc_children_under_5</th>\n    </tr>\n    <tr>\n      <th></th>\n      <th>mean</th>\n    </tr>\n    <tr>\n      <th>st_loc</th>\n      <th></th>\n    </tr>\n  </thead>\n  <tbody>\n    <tr>\n      <th>A ST</th>\n      <td>7.760494</td>\n    </tr>\n    <tr>\n      <th>ABBOT ST</th>\n      <td>32.859579</td>\n    </tr>\n    <tr>\n      <th>ABBOTSFORD ST</th>\n      <td>22.600321</td>\n    </tr>\n    <tr>\n      <th>ABBY RD</th>\n      <td>9.167842</td>\n    </tr>\n    <tr>\n      <th>ABERDEEN ST</th>\n      <td>0.409707</td>\n    </tr>\n    <tr>\n      <th>...</th>\n      <td>...</td>\n    </tr>\n    <tr>\n      <th>YUILL CI</th>\n      <td>17.664093</td>\n    </tr>\n    <tr>\n      <th>ZAMORA CT</th>\n      <td>8.589871</td>\n    </tr>\n    <tr>\n      <th>ZAMORA ST</th>\n      <td>8.589871</td>\n    </tr>\n    <tr>\n      <th>ZEIGLER ST</th>\n      <td>29.704797</td>\n    </tr>\n    <tr>\n      <th>ZELLER ST</th>\n      <td>15.205830</td>\n    </tr>\n  </tbody>\n</table>\n<p>4075 rows × 1 columns</p>\n</div>"
     },
     "execution_count": 62,
     "metadata": {},
     "output_type": "execute_result"
    }
   ],
   "source": [
    "# group by children_under_5\n",
    "boston_bldg_by_children_under_5 = boston_bldg[['st_loc', 'ct_perc_children_under_5']].groupby(['st_loc']).agg(['mean'])\n",
    "boston_bldg_by_children_under_5.to_csv('prep_data/boston_bldg_by_children_under_5.csv', encoding='utf-8')\n",
    "boston_bldg_by_children_under_5"
   ],
   "metadata": {
    "collapsed": false,
    "pycharm": {
     "name": "#%%\n"
    }
   }
  },
  {
   "cell_type": "code",
   "execution_count": 63,
   "outputs": [
    {
     "data": {
      "text/plain": "              ct_perc_over_65\n                         mean\nst_loc                       \nA ST                 6.758466\nABBOT ST             5.760849\nABBOTSFORD ST       10.016051\nABBY RD              9.144335\nABERDEEN ST          1.134573\n...                       ...\nYUILL CI             6.322394\nZAMORA CT           11.866931\nZAMORA ST           11.866931\nZEIGLER ST          11.070111\nZELLER ST           19.440615\n\n[4075 rows x 1 columns]",
      "text/html": "<div>\n<style scoped>\n    .dataframe tbody tr th:only-of-type {\n        vertical-align: middle;\n    }\n\n    .dataframe tbody tr th {\n        vertical-align: top;\n    }\n\n    .dataframe thead tr th {\n        text-align: left;\n    }\n\n    .dataframe thead tr:last-of-type th {\n        text-align: right;\n    }\n</style>\n<table border=\"1\" class=\"dataframe\">\n  <thead>\n    <tr>\n      <th></th>\n      <th>ct_perc_over_65</th>\n    </tr>\n    <tr>\n      <th></th>\n      <th>mean</th>\n    </tr>\n    <tr>\n      <th>st_loc</th>\n      <th></th>\n    </tr>\n  </thead>\n  <tbody>\n    <tr>\n      <th>A ST</th>\n      <td>6.758466</td>\n    </tr>\n    <tr>\n      <th>ABBOT ST</th>\n      <td>5.760849</td>\n    </tr>\n    <tr>\n      <th>ABBOTSFORD ST</th>\n      <td>10.016051</td>\n    </tr>\n    <tr>\n      <th>ABBY RD</th>\n      <td>9.144335</td>\n    </tr>\n    <tr>\n      <th>ABERDEEN ST</th>\n      <td>1.134573</td>\n    </tr>\n    <tr>\n      <th>...</th>\n      <td>...</td>\n    </tr>\n    <tr>\n      <th>YUILL CI</th>\n      <td>6.322394</td>\n    </tr>\n    <tr>\n      <th>ZAMORA CT</th>\n      <td>11.866931</td>\n    </tr>\n    <tr>\n      <th>ZAMORA ST</th>\n      <td>11.866931</td>\n    </tr>\n    <tr>\n      <th>ZEIGLER ST</th>\n      <td>11.070111</td>\n    </tr>\n    <tr>\n      <th>ZELLER ST</th>\n      <td>19.440615</td>\n    </tr>\n  </tbody>\n</table>\n<p>4075 rows × 1 columns</p>\n</div>"
     },
     "execution_count": 63,
     "metadata": {},
     "output_type": "execute_result"
    }
   ],
   "source": [
    "# group by over_65\n",
    "boston_bldg_by_over_65 = boston_bldg[['st_loc', 'ct_perc_over_65']].groupby(['st_loc']).agg(['mean'])\n",
    "boston_bldg_by_over_65.to_csv('prep_data/boston_bldg_by_over_65.csv', encoding='utf-8')\n",
    "boston_bldg_by_over_65"
   ],
   "metadata": {
    "collapsed": false,
    "pycharm": {
     "name": "#%%\n"
    }
   }
  },
  {
   "cell_type": "code",
   "execution_count": 64,
   "outputs": [
    {
     "data": {
      "text/plain": "              ct_perc_low_to_no_income\n                                  mean\nst_loc                                \nA ST                         17.455992\nABBOT ST                     44.836081\nABBOTSFORD ST                35.345104\nABBY RD                      17.207334\nABERDEEN ST                  28.206744\n...                                ...\nYUILL CI                      7.722008\nZAMORA CT                    20.357498\nZAMORA ST                    20.357498\nZEIGLER ST                   56.826568\nZELLER ST                    13.295253\n\n[4075 rows x 1 columns]",
      "text/html": "<div>\n<style scoped>\n    .dataframe tbody tr th:only-of-type {\n        vertical-align: middle;\n    }\n\n    .dataframe tbody tr th {\n        vertical-align: top;\n    }\n\n    .dataframe thead tr th {\n        text-align: left;\n    }\n\n    .dataframe thead tr:last-of-type th {\n        text-align: right;\n    }\n</style>\n<table border=\"1\" class=\"dataframe\">\n  <thead>\n    <tr>\n      <th></th>\n      <th>ct_perc_low_to_no_income</th>\n    </tr>\n    <tr>\n      <th></th>\n      <th>mean</th>\n    </tr>\n    <tr>\n      <th>st_loc</th>\n      <th></th>\n    </tr>\n  </thead>\n  <tbody>\n    <tr>\n      <th>A ST</th>\n      <td>17.455992</td>\n    </tr>\n    <tr>\n      <th>ABBOT ST</th>\n      <td>44.836081</td>\n    </tr>\n    <tr>\n      <th>ABBOTSFORD ST</th>\n      <td>35.345104</td>\n    </tr>\n    <tr>\n      <th>ABBY RD</th>\n      <td>17.207334</td>\n    </tr>\n    <tr>\n      <th>ABERDEEN ST</th>\n      <td>28.206744</td>\n    </tr>\n    <tr>\n      <th>...</th>\n      <td>...</td>\n    </tr>\n    <tr>\n      <th>YUILL CI</th>\n      <td>7.722008</td>\n    </tr>\n    <tr>\n      <th>ZAMORA CT</th>\n      <td>20.357498</td>\n    </tr>\n    <tr>\n      <th>ZAMORA ST</th>\n      <td>20.357498</td>\n    </tr>\n    <tr>\n      <th>ZEIGLER ST</th>\n      <td>56.826568</td>\n    </tr>\n    <tr>\n      <th>ZELLER ST</th>\n      <td>13.295253</td>\n    </tr>\n  </tbody>\n</table>\n<p>4075 rows × 1 columns</p>\n</div>"
     },
     "execution_count": 64,
     "metadata": {},
     "output_type": "execute_result"
    }
   ],
   "source": [
    "# group by low_income\n",
    "boston_bldg_by_low_income = boston_bldg[['st_loc', 'ct_perc_low_to_no_income']].groupby(['st_loc']).agg(['mean'])\n",
    "boston_bldg_by_low_income.to_csv('prep_data/boston_bldg_by_low_income.csv', encoding='utf-8')\n",
    "boston_bldg_by_low_income"
   ],
   "metadata": {
    "collapsed": false,
    "pycharm": {
     "name": "#%%\n"
    }
   }
  },
  {
   "cell_type": "code",
   "execution_count": 65,
   "outputs": [
    {
     "data": {
      "text/plain": "              ct_perc_income_200000_or_more\n                                       mean\nst_loc                                     \nA ST                              24.717626\nABBOT ST                           0.618459\nABBOTSFORD ST                      1.061571\nABBY RD                            7.173252\nABERDEEN ST                        5.869565\n...                                     ...\nYUILL CI                           9.868421\nZAMORA CT                          9.558824\nZAMORA ST                          9.558824\nZEIGLER ST                         1.063830\nZELLER ST                         11.955056\n\n[4075 rows x 1 columns]",
      "text/html": "<div>\n<style scoped>\n    .dataframe tbody tr th:only-of-type {\n        vertical-align: middle;\n    }\n\n    .dataframe tbody tr th {\n        vertical-align: top;\n    }\n\n    .dataframe thead tr th {\n        text-align: left;\n    }\n\n    .dataframe thead tr:last-of-type th {\n        text-align: right;\n    }\n</style>\n<table border=\"1\" class=\"dataframe\">\n  <thead>\n    <tr>\n      <th></th>\n      <th>ct_perc_income_200000_or_more</th>\n    </tr>\n    <tr>\n      <th></th>\n      <th>mean</th>\n    </tr>\n    <tr>\n      <th>st_loc</th>\n      <th></th>\n    </tr>\n  </thead>\n  <tbody>\n    <tr>\n      <th>A ST</th>\n      <td>24.717626</td>\n    </tr>\n    <tr>\n      <th>ABBOT ST</th>\n      <td>0.618459</td>\n    </tr>\n    <tr>\n      <th>ABBOTSFORD ST</th>\n      <td>1.061571</td>\n    </tr>\n    <tr>\n      <th>ABBY RD</th>\n      <td>7.173252</td>\n    </tr>\n    <tr>\n      <th>ABERDEEN ST</th>\n      <td>5.869565</td>\n    </tr>\n    <tr>\n      <th>...</th>\n      <td>...</td>\n    </tr>\n    <tr>\n      <th>YUILL CI</th>\n      <td>9.868421</td>\n    </tr>\n    <tr>\n      <th>ZAMORA CT</th>\n      <td>9.558824</td>\n    </tr>\n    <tr>\n      <th>ZAMORA ST</th>\n      <td>9.558824</td>\n    </tr>\n    <tr>\n      <th>ZEIGLER ST</th>\n      <td>1.063830</td>\n    </tr>\n    <tr>\n      <th>ZELLER ST</th>\n      <td>11.955056</td>\n    </tr>\n  </tbody>\n</table>\n<p>4075 rows × 1 columns</p>\n</div>"
     },
     "execution_count": 65,
     "metadata": {},
     "output_type": "execute_result"
    }
   ],
   "source": [
    "# group by high_income\n",
    "boston_bldg_by_high_income = boston_bldg[['st_loc', 'ct_perc_income_200000_or_more']].groupby(['st_loc']).agg(['mean'])\n",
    "boston_bldg_by_high_income.to_csv('prep_data/boston_bldg_by_high_income.csv', encoding='utf-8')\n",
    "boston_bldg_by_high_income"
   ],
   "metadata": {
    "collapsed": false,
    "pycharm": {
     "name": "#%%\n"
    }
   }
  },
  {
   "cell_type": "code",
   "execution_count": 66,
   "outputs": [
    {
     "data": {
      "text/plain": "    Use Code      Use Code Category Use Code Description  \\\n0         10  Multiple Use Property      Condo Multi-Use   \n1         12  Multiple Use Property          Vacant Land   \n2         13  Multiple Use Property   Res/Commercial Use   \n3         19  Multiple Use Property       Res/Exempt Use   \n4         25  Multiple Use Property   Res/Comm Mixed Use   \n..       ...                    ...                  ...   \n350        A                Average                  NaN   \n351        E              Excellent                  NaN   \n352        F                   Fair                  NaN   \n353        G                   Good                  NaN   \n354        P                   Poor                  NaN   \n\n                   Use Class  \n0    Residential (Mixed-Use)  \n1                        NaN  \n2    Residential (Mixed-Use)  \n3    Residential (Mixed-Use)  \n4    Residential (Mixed-Use)  \n..                       ...  \n350                      NaN  \n351                      NaN  \n352                      NaN  \n353                      NaN  \n354                      NaN  \n\n[355 rows x 4 columns]",
      "text/html": "<div>\n<style scoped>\n    .dataframe tbody tr th:only-of-type {\n        vertical-align: middle;\n    }\n\n    .dataframe tbody tr th {\n        vertical-align: top;\n    }\n\n    .dataframe thead th {\n        text-align: right;\n    }\n</style>\n<table border=\"1\" class=\"dataframe\">\n  <thead>\n    <tr style=\"text-align: right;\">\n      <th></th>\n      <th>Use Code</th>\n      <th>Use Code Category</th>\n      <th>Use Code Description</th>\n      <th>Use Class</th>\n    </tr>\n  </thead>\n  <tbody>\n    <tr>\n      <th>0</th>\n      <td>10</td>\n      <td>Multiple Use Property</td>\n      <td>Condo Multi-Use</td>\n      <td>Residential (Mixed-Use)</td>\n    </tr>\n    <tr>\n      <th>1</th>\n      <td>12</td>\n      <td>Multiple Use Property</td>\n      <td>Vacant Land</td>\n      <td>NaN</td>\n    </tr>\n    <tr>\n      <th>2</th>\n      <td>13</td>\n      <td>Multiple Use Property</td>\n      <td>Res/Commercial Use</td>\n      <td>Residential (Mixed-Use)</td>\n    </tr>\n    <tr>\n      <th>3</th>\n      <td>19</td>\n      <td>Multiple Use Property</td>\n      <td>Res/Exempt Use</td>\n      <td>Residential (Mixed-Use)</td>\n    </tr>\n    <tr>\n      <th>4</th>\n      <td>25</td>\n      <td>Multiple Use Property</td>\n      <td>Res/Comm Mixed Use</td>\n      <td>Residential (Mixed-Use)</td>\n    </tr>\n    <tr>\n      <th>...</th>\n      <td>...</td>\n      <td>...</td>\n      <td>...</td>\n      <td>...</td>\n    </tr>\n    <tr>\n      <th>350</th>\n      <td>A</td>\n      <td>Average</td>\n      <td>NaN</td>\n      <td>NaN</td>\n    </tr>\n    <tr>\n      <th>351</th>\n      <td>E</td>\n      <td>Excellent</td>\n      <td>NaN</td>\n      <td>NaN</td>\n    </tr>\n    <tr>\n      <th>352</th>\n      <td>F</td>\n      <td>Fair</td>\n      <td>NaN</td>\n      <td>NaN</td>\n    </tr>\n    <tr>\n      <th>353</th>\n      <td>G</td>\n      <td>Good</td>\n      <td>NaN</td>\n      <td>NaN</td>\n    </tr>\n    <tr>\n      <th>354</th>\n      <td>P</td>\n      <td>Poor</td>\n      <td>NaN</td>\n      <td>NaN</td>\n    </tr>\n  </tbody>\n</table>\n<p>355 rows × 4 columns</p>\n</div>"
     },
     "execution_count": 66,
     "metadata": {},
     "output_type": "execute_result"
    }
   ],
   "source": [
    "# extract specific category\n",
    "inventory_code = pd.read_csv('data/boston_building_inventory_code.csv')\n",
    "inventory_code"
   ],
   "metadata": {
    "collapsed": false,
    "pycharm": {
     "name": "#%%\n"
    }
   }
  },
  {
   "cell_type": "code",
   "execution_count": 72,
   "outputs": [
    {
     "data": {
      "text/plain": "    Use Code      Use Code Category   Use Code Description  \\\n0         10  Multiple Use Property        Condo Multi-Use   \n1         12  Multiple Use Property            Vacant Land   \n2         13  Multiple Use Property     Res/Commercial Use   \n3         19  Multiple Use Property         Res/Exempt Use   \n4         25  Multiple Use Property     Res/Comm Mixed Use   \n..       ...                    ...                    ...   \n244      991   Exempt Property Type           Office Condo   \n245      992   Exempt Property Type      Residential Condo   \n246      993   Exempt Property Type       Industrial Condo   \n247      995   Exempt Property Type             Condo Main   \n248      999   Exempt Property Type  Partial Exempt Entity   \n\n                   Use Class  \n0    Residential (Mixed-Use)  \n1                        NaN  \n2    Residential (Mixed-Use)  \n3    Residential (Mixed-Use)  \n4    Residential (Mixed-Use)  \n..                       ...  \n244               Commercial  \n245              Residential  \n246               Industrial  \n247                      NaN  \n248    Public & Quasi-Public  \n\n[249 rows x 4 columns]",
      "text/html": "<div>\n<style scoped>\n    .dataframe tbody tr th:only-of-type {\n        vertical-align: middle;\n    }\n\n    .dataframe tbody tr th {\n        vertical-align: top;\n    }\n\n    .dataframe thead th {\n        text-align: right;\n    }\n</style>\n<table border=\"1\" class=\"dataframe\">\n  <thead>\n    <tr style=\"text-align: right;\">\n      <th></th>\n      <th>Use Code</th>\n      <th>Use Code Category</th>\n      <th>Use Code Description</th>\n      <th>Use Class</th>\n    </tr>\n  </thead>\n  <tbody>\n    <tr>\n      <th>0</th>\n      <td>10</td>\n      <td>Multiple Use Property</td>\n      <td>Condo Multi-Use</td>\n      <td>Residential (Mixed-Use)</td>\n    </tr>\n    <tr>\n      <th>1</th>\n      <td>12</td>\n      <td>Multiple Use Property</td>\n      <td>Vacant Land</td>\n      <td>NaN</td>\n    </tr>\n    <tr>\n      <th>2</th>\n      <td>13</td>\n      <td>Multiple Use Property</td>\n      <td>Res/Commercial Use</td>\n      <td>Residential (Mixed-Use)</td>\n    </tr>\n    <tr>\n      <th>3</th>\n      <td>19</td>\n      <td>Multiple Use Property</td>\n      <td>Res/Exempt Use</td>\n      <td>Residential (Mixed-Use)</td>\n    </tr>\n    <tr>\n      <th>4</th>\n      <td>25</td>\n      <td>Multiple Use Property</td>\n      <td>Res/Comm Mixed Use</td>\n      <td>Residential (Mixed-Use)</td>\n    </tr>\n    <tr>\n      <th>...</th>\n      <td>...</td>\n      <td>...</td>\n      <td>...</td>\n      <td>...</td>\n    </tr>\n    <tr>\n      <th>244</th>\n      <td>991</td>\n      <td>Exempt Property Type</td>\n      <td>Office Condo</td>\n      <td>Commercial</td>\n    </tr>\n    <tr>\n      <th>245</th>\n      <td>992</td>\n      <td>Exempt Property Type</td>\n      <td>Residential Condo</td>\n      <td>Residential</td>\n    </tr>\n    <tr>\n      <th>246</th>\n      <td>993</td>\n      <td>Exempt Property Type</td>\n      <td>Industrial Condo</td>\n      <td>Industrial</td>\n    </tr>\n    <tr>\n      <th>247</th>\n      <td>995</td>\n      <td>Exempt Property Type</td>\n      <td>Condo Main</td>\n      <td>NaN</td>\n    </tr>\n    <tr>\n      <th>248</th>\n      <td>999</td>\n      <td>Exempt Property Type</td>\n      <td>Partial Exempt Entity</td>\n      <td>Public &amp; Quasi-Public</td>\n    </tr>\n  </tbody>\n</table>\n<p>249 rows × 4 columns</p>\n</div>"
     },
     "execution_count": 72,
     "metadata": {},
     "output_type": "execute_result"
    }
   ],
   "source": [
    "inventory_code = inventory_code[inventory_code.index < 249]\n",
    "inventory_code"
   ],
   "metadata": {
    "collapsed": false,
    "pycharm": {
     "name": "#%%\n"
    }
   }
  },
  {
   "cell_type": "code",
   "execution_count": 79,
   "outputs": [
    {
     "data": {
      "text/plain": "['108', '116', '119', '336', '337', '339', '359', '387', '961', '962']"
     },
     "execution_count": 79,
     "metadata": {},
     "output_type": "execute_result"
    }
   ],
   "source": [
    "shopping = ['321', '322', '323', '324', '325'] # Shopping Center, Supermarket, Retail Store\n",
    "gas_station = ['333'] # Gas Station\n",
    "club = ['329', '361'] # Bar/Tavern/Pub, Night Club\n",
    "education = ['378', '904', '976', '977'] # School, College, Pri School / College\n",
    "hospital = ['305', '309', '979'] # Hospital, Medical Clinic\n",
    "\n",
    "parking_area = list(inventory_code[inventory_code['Use Code Description'].str.contains('Parking')]['Use Code'])\n",
    "parking_area"
   ],
   "metadata": {
    "collapsed": false,
    "pycharm": {
     "name": "#%%\n"
    }
   }
  },
  {
   "cell_type": "code",
   "execution_count": 80,
   "outputs": [
    {
     "data": {
      "text/plain": "    Use Code     Use Code Category Use Code Description              Use Class\n15       108  Residential Property        Condo Parking            Residential\n23       116    Apartment Property   Res Parking Garage            Residential\n26       119    Apartment Property      Res Parking Lot            Residential\n77       336   Commercial Property       Parking Garage             Commercial\n78       337   Commercial Property          Parking Lot             Commercial\n80       339   Commercial Property       Parking Garage             Commercial\n99       359   Commercial Property        Condo Parking             Commercial\n127      387   Commercial Property      Pay Parking Lot             Commercial\n215      961  Exempt Property Type       Parking Garage  Public & Quasi-Public\n216      962  Exempt Property Type          Parking Lot  Public & Quasi-Public",
      "text/html": "<div>\n<style scoped>\n    .dataframe tbody tr th:only-of-type {\n        vertical-align: middle;\n    }\n\n    .dataframe tbody tr th {\n        vertical-align: top;\n    }\n\n    .dataframe thead th {\n        text-align: right;\n    }\n</style>\n<table border=\"1\" class=\"dataframe\">\n  <thead>\n    <tr style=\"text-align: right;\">\n      <th></th>\n      <th>Use Code</th>\n      <th>Use Code Category</th>\n      <th>Use Code Description</th>\n      <th>Use Class</th>\n    </tr>\n  </thead>\n  <tbody>\n    <tr>\n      <th>15</th>\n      <td>108</td>\n      <td>Residential Property</td>\n      <td>Condo Parking</td>\n      <td>Residential</td>\n    </tr>\n    <tr>\n      <th>23</th>\n      <td>116</td>\n      <td>Apartment Property</td>\n      <td>Res Parking Garage</td>\n      <td>Residential</td>\n    </tr>\n    <tr>\n      <th>26</th>\n      <td>119</td>\n      <td>Apartment Property</td>\n      <td>Res Parking Lot</td>\n      <td>Residential</td>\n    </tr>\n    <tr>\n      <th>77</th>\n      <td>336</td>\n      <td>Commercial Property</td>\n      <td>Parking Garage</td>\n      <td>Commercial</td>\n    </tr>\n    <tr>\n      <th>78</th>\n      <td>337</td>\n      <td>Commercial Property</td>\n      <td>Parking Lot</td>\n      <td>Commercial</td>\n    </tr>\n    <tr>\n      <th>80</th>\n      <td>339</td>\n      <td>Commercial Property</td>\n      <td>Parking Garage</td>\n      <td>Commercial</td>\n    </tr>\n    <tr>\n      <th>99</th>\n      <td>359</td>\n      <td>Commercial Property</td>\n      <td>Condo Parking</td>\n      <td>Commercial</td>\n    </tr>\n    <tr>\n      <th>127</th>\n      <td>387</td>\n      <td>Commercial Property</td>\n      <td>Pay Parking Lot</td>\n      <td>Commercial</td>\n    </tr>\n    <tr>\n      <th>215</th>\n      <td>961</td>\n      <td>Exempt Property Type</td>\n      <td>Parking Garage</td>\n      <td>Public &amp; Quasi-Public</td>\n    </tr>\n    <tr>\n      <th>216</th>\n      <td>962</td>\n      <td>Exempt Property Type</td>\n      <td>Parking Lot</td>\n      <td>Public &amp; Quasi-Public</td>\n    </tr>\n  </tbody>\n</table>\n</div>"
     },
     "execution_count": 80,
     "metadata": {},
     "output_type": "execute_result"
    }
   ],
   "source": [
    "# All kinds of parking area\n",
    "inventory_code[inventory_code['Use Code Description'].str.contains('Parking')]"
   ],
   "metadata": {
    "collapsed": false,
    "pycharm": {
     "name": "#%%\n"
    }
   }
  },
  {
   "cell_type": "code",
   "execution_count": 96,
   "outputs": [
    {
     "data": {
      "text/plain": "          id    building_typology              use_class year_built_class  \\\n1      51137        Single-Family            Residential        1915-1949   \n2      18045        Single-Family            Residential         Pre-1915   \n3      94001  Convention/Assembly  Public & Quasi-Public        1950-1979   \n5      29815               Vacant                 Vacant              NaN   \n6      75767               Vacant                 Vacant              NaN   \n...      ...                  ...                    ...              ...   \n98922  31503        Single-Family            Residential     1980-present   \n98924  51491        Single-Family            Residential     1980-present   \n98926  68980        Single-Family            Residential     1980-present   \n98927  95554        Single-Family            Residential     1980-present   \n98929   6205        Single-Family            Residential              NaN   \n\n         st_name st_name_suf ptype  lu  ct_perc_children_under_5  \\\n1        EVERETT          ST   101  R1                 20.926988   \n2          ESSEX          ST   101  R1                 21.730217   \n3        WESTERN          AV   941   E                       NaN   \n5         SEARLE          RD   132  RL                 22.720072   \n6      HYDE PARK          AV   390  CL                 24.054422   \n...          ...         ...   ...  ..                       ...   \n98922  GLENELLEN          RD   101  R1                 15.441018   \n98924     TAYLOR          TE   101  R1                 23.207269   \n98926     AVALON          RD   101  R1                 19.217745   \n98927    GERRISH          ST   101  R1                 10.218978   \n98929    PERKINS          ST   101  R1                 12.867327   \n\n       ct_perc_over_65  ct_perc_income_200000_or_more  \\\n1             9.145869                       4.186655   \n2            16.892169                      18.404908   \n3                  NaN                            NaN   \n5            15.614392                      24.619565   \n6            10.503401                       5.499276   \n...                ...                            ...   \n98922        17.597585                      12.048193   \n98924        11.738703                       6.573070   \n98926        17.660007                      10.875706   \n98927        13.029197                      10.531221   \n98929         7.007477                      16.701828   \n\n       ct_perc_low_to_no_income        st_loc category  \n1                     37.219036    EVERETT ST     None  \n2                     19.762198      ESSEX ST     None  \n3                           NaN    WESTERN AV     None  \n5                      4.254356     SEARLE RD     None  \n6                     19.619048  HYDE PARK AV     None  \n...                         ...           ...      ...  \n98922                  8.194954  GLENELLEN RD     None  \n98924                 32.293713     TAYLOR TE     None  \n98926                  6.417203     AVALON RD     None  \n98927                 13.832117    GERRISH ST     None  \n98929                 19.961746    PERKINS ST     None  \n\n[89283 rows x 14 columns]",
      "text/html": "<div>\n<style scoped>\n    .dataframe tbody tr th:only-of-type {\n        vertical-align: middle;\n    }\n\n    .dataframe tbody tr th {\n        vertical-align: top;\n    }\n\n    .dataframe thead th {\n        text-align: right;\n    }\n</style>\n<table border=\"1\" class=\"dataframe\">\n  <thead>\n    <tr style=\"text-align: right;\">\n      <th></th>\n      <th>id</th>\n      <th>building_typology</th>\n      <th>use_class</th>\n      <th>year_built_class</th>\n      <th>st_name</th>\n      <th>st_name_suf</th>\n      <th>ptype</th>\n      <th>lu</th>\n      <th>ct_perc_children_under_5</th>\n      <th>ct_perc_over_65</th>\n      <th>ct_perc_income_200000_or_more</th>\n      <th>ct_perc_low_to_no_income</th>\n      <th>st_loc</th>\n      <th>category</th>\n    </tr>\n  </thead>\n  <tbody>\n    <tr>\n      <th>1</th>\n      <td>51137</td>\n      <td>Single-Family</td>\n      <td>Residential</td>\n      <td>1915-1949</td>\n      <td>EVERETT</td>\n      <td>ST</td>\n      <td>101</td>\n      <td>R1</td>\n      <td>20.926988</td>\n      <td>9.145869</td>\n      <td>4.186655</td>\n      <td>37.219036</td>\n      <td>EVERETT ST</td>\n      <td>None</td>\n    </tr>\n    <tr>\n      <th>2</th>\n      <td>18045</td>\n      <td>Single-Family</td>\n      <td>Residential</td>\n      <td>Pre-1915</td>\n      <td>ESSEX</td>\n      <td>ST</td>\n      <td>101</td>\n      <td>R1</td>\n      <td>21.730217</td>\n      <td>16.892169</td>\n      <td>18.404908</td>\n      <td>19.762198</td>\n      <td>ESSEX ST</td>\n      <td>None</td>\n    </tr>\n    <tr>\n      <th>3</th>\n      <td>94001</td>\n      <td>Convention/Assembly</td>\n      <td>Public &amp; Quasi-Public</td>\n      <td>1950-1979</td>\n      <td>WESTERN</td>\n      <td>AV</td>\n      <td>941</td>\n      <td>E</td>\n      <td>NaN</td>\n      <td>NaN</td>\n      <td>NaN</td>\n      <td>NaN</td>\n      <td>WESTERN AV</td>\n      <td>None</td>\n    </tr>\n    <tr>\n      <th>5</th>\n      <td>29815</td>\n      <td>Vacant</td>\n      <td>Vacant</td>\n      <td>NaN</td>\n      <td>SEARLE</td>\n      <td>RD</td>\n      <td>132</td>\n      <td>RL</td>\n      <td>22.720072</td>\n      <td>15.614392</td>\n      <td>24.619565</td>\n      <td>4.254356</td>\n      <td>SEARLE RD</td>\n      <td>None</td>\n    </tr>\n    <tr>\n      <th>6</th>\n      <td>75767</td>\n      <td>Vacant</td>\n      <td>Vacant</td>\n      <td>NaN</td>\n      <td>HYDE PARK</td>\n      <td>AV</td>\n      <td>390</td>\n      <td>CL</td>\n      <td>24.054422</td>\n      <td>10.503401</td>\n      <td>5.499276</td>\n      <td>19.619048</td>\n      <td>HYDE PARK AV</td>\n      <td>None</td>\n    </tr>\n    <tr>\n      <th>...</th>\n      <td>...</td>\n      <td>...</td>\n      <td>...</td>\n      <td>...</td>\n      <td>...</td>\n      <td>...</td>\n      <td>...</td>\n      <td>...</td>\n      <td>...</td>\n      <td>...</td>\n      <td>...</td>\n      <td>...</td>\n      <td>...</td>\n      <td>...</td>\n    </tr>\n    <tr>\n      <th>98922</th>\n      <td>31503</td>\n      <td>Single-Family</td>\n      <td>Residential</td>\n      <td>1980-present</td>\n      <td>GLENELLEN</td>\n      <td>RD</td>\n      <td>101</td>\n      <td>R1</td>\n      <td>15.441018</td>\n      <td>17.597585</td>\n      <td>12.048193</td>\n      <td>8.194954</td>\n      <td>GLENELLEN RD</td>\n      <td>None</td>\n    </tr>\n    <tr>\n      <th>98924</th>\n      <td>51491</td>\n      <td>Single-Family</td>\n      <td>Residential</td>\n      <td>1980-present</td>\n      <td>TAYLOR</td>\n      <td>TE</td>\n      <td>101</td>\n      <td>R1</td>\n      <td>23.207269</td>\n      <td>11.738703</td>\n      <td>6.573070</td>\n      <td>32.293713</td>\n      <td>TAYLOR TE</td>\n      <td>None</td>\n    </tr>\n    <tr>\n      <th>98926</th>\n      <td>68980</td>\n      <td>Single-Family</td>\n      <td>Residential</td>\n      <td>1980-present</td>\n      <td>AVALON</td>\n      <td>RD</td>\n      <td>101</td>\n      <td>R1</td>\n      <td>19.217745</td>\n      <td>17.660007</td>\n      <td>10.875706</td>\n      <td>6.417203</td>\n      <td>AVALON RD</td>\n      <td>None</td>\n    </tr>\n    <tr>\n      <th>98927</th>\n      <td>95554</td>\n      <td>Single-Family</td>\n      <td>Residential</td>\n      <td>1980-present</td>\n      <td>GERRISH</td>\n      <td>ST</td>\n      <td>101</td>\n      <td>R1</td>\n      <td>10.218978</td>\n      <td>13.029197</td>\n      <td>10.531221</td>\n      <td>13.832117</td>\n      <td>GERRISH ST</td>\n      <td>None</td>\n    </tr>\n    <tr>\n      <th>98929</th>\n      <td>6205</td>\n      <td>Single-Family</td>\n      <td>Residential</td>\n      <td>NaN</td>\n      <td>PERKINS</td>\n      <td>ST</td>\n      <td>101</td>\n      <td>R1</td>\n      <td>12.867327</td>\n      <td>7.007477</td>\n      <td>16.701828</td>\n      <td>19.961746</td>\n      <td>PERKINS ST</td>\n      <td>None</td>\n    </tr>\n  </tbody>\n</table>\n<p>89283 rows × 14 columns</p>\n</div>"
     },
     "execution_count": 96,
     "metadata": {},
     "output_type": "execute_result"
    }
   ],
   "source": [
    "boston_bldg_category = boston_bldg.copy()\n",
    "boston_bldg_category = boston_bldg_category.astype({'ptype': int}).astype({'ptype': str})\n",
    "\n",
    "def get_category(x):\n",
    "    if x in shopping:\n",
    "        return 'shopping'\n",
    "    elif x in gas_station:\n",
    "        return 'gas station'\n",
    "    elif x in club:\n",
    "        return 'club'\n",
    "    elif x in education:\n",
    "        return 'education'\n",
    "    elif x in hospital:\n",
    "        return 'hospital'\n",
    "    elif x in parking_area:\n",
    "        return 'parking area'\n",
    "\n",
    "boston_bldg_category['category'] = boston_bldg_category.apply(lambda x: get_category(x.ptype), axis=1)\n",
    "boston_bldg_category"
   ],
   "metadata": {
    "collapsed": false,
    "pycharm": {
     "name": "#%%\n"
    }
   }
  },
  {
   "cell_type": "code",
   "execution_count": 97,
   "outputs": [
    {
     "data": {
      "text/plain": "{None,\n 'club',\n 'education',\n 'gas station',\n 'hospital',\n 'parking area',\n 'shopping'}"
     },
     "execution_count": 97,
     "metadata": {},
     "output_type": "execute_result"
    }
   ],
   "source": [
    "set(boston_bldg_category.category)"
   ],
   "metadata": {
    "collapsed": false,
    "pycharm": {
     "name": "#%%\n"
    }
   }
  },
  {
   "cell_type": "code",
   "execution_count": 98,
   "outputs": [
    {
     "data": {
      "text/plain": "          id       building_typology              use_class year_built_class  \\\n42     79096                  Garage             Commercial              NaN   \n57     28345                  Garage             Commercial              NaN   \n83     51081                  Garage             Commercial              NaN   \n85     96948                  Garage             Commercial              NaN   \n86     41481                  Garage             Commercial              NaN   \n...      ...                     ...                    ...              ...   \n98861  36500  Medical/Lab/Production  Public & Quasi-Public              NaN   \n98870  10398                  Garage             Commercial              NaN   \n98876  23699     Convention/Assembly  Public & Quasi-Public              NaN   \n98877  15803     Convention/Assembly  Public & Quasi-Public         Pre-1915   \n98894  20012  Medical/Lab/Production  Public & Quasi-Public              NaN   \n\n            st_name st_name_suf ptype  lu  ct_perc_children_under_5  \\\n42          BARBARA          ST   337  CL                 12.867327   \n57          CHELSEA          ST   337  CL                 19.693606   \n83            SPICE          ST   337  CL                 13.338789   \n85       WASHINGTON          ST   337  CL                 16.603664   \n86           DUDLEY          ST   337  CL                 30.579216   \n...             ...         ...   ...  ..                       ...   \n98861    N ANDERSON          ST   979   E                  3.163618   \n98870  S HUNTINGTON          AV   337  CL                 12.867327   \n98876     BAY STATE          RD   977   E                  0.744145   \n98877     BAY STATE          RD   977   E                  0.744145   \n98894      LONGWOOD          AV   979   E                 12.331288   \n\n       ct_perc_over_65  ct_perc_income_200000_or_more  \\\n42            7.007477                      16.701828   \n57            4.240675                       4.739336   \n83           13.011457                      26.015681   \n85            8.897935                       6.508549   \n86            7.580920                       2.251656   \n...                ...                            ...   \n98861        22.194760                      21.120363   \n98870         7.007477                      16.701828   \n98876         0.350186                       7.660455   \n98877         0.350186                       7.660455   \n98894        11.370143                       2.188082   \n\n       ct_perc_low_to_no_income           st_loc      category  \n42                    19.961746       BARBARA ST  parking area  \n57                    27.264654       CHELSEA ST  parking area  \n83                    15.834697         SPICE ST  parking area  \n85                    35.504507    WASHINGTON ST  parking area  \n86                    36.797274        DUDLEY ST  parking area  \n...                         ...              ...           ...  \n98861                 22.540781    N ANDERSON ST      hospital  \n98870                 19.961746  S HUNTINGTON AV  parking area  \n98876                  8.579558     BAY STATE RD     education  \n98877                  8.579558     BAY STATE RD     education  \n98894                 55.582822      LONGWOOD AV      hospital  \n\n[1789 rows x 14 columns]",
      "text/html": "<div>\n<style scoped>\n    .dataframe tbody tr th:only-of-type {\n        vertical-align: middle;\n    }\n\n    .dataframe tbody tr th {\n        vertical-align: top;\n    }\n\n    .dataframe thead th {\n        text-align: right;\n    }\n</style>\n<table border=\"1\" class=\"dataframe\">\n  <thead>\n    <tr style=\"text-align: right;\">\n      <th></th>\n      <th>id</th>\n      <th>building_typology</th>\n      <th>use_class</th>\n      <th>year_built_class</th>\n      <th>st_name</th>\n      <th>st_name_suf</th>\n      <th>ptype</th>\n      <th>lu</th>\n      <th>ct_perc_children_under_5</th>\n      <th>ct_perc_over_65</th>\n      <th>ct_perc_income_200000_or_more</th>\n      <th>ct_perc_low_to_no_income</th>\n      <th>st_loc</th>\n      <th>category</th>\n    </tr>\n  </thead>\n  <tbody>\n    <tr>\n      <th>42</th>\n      <td>79096</td>\n      <td>Garage</td>\n      <td>Commercial</td>\n      <td>NaN</td>\n      <td>BARBARA</td>\n      <td>ST</td>\n      <td>337</td>\n      <td>CL</td>\n      <td>12.867327</td>\n      <td>7.007477</td>\n      <td>16.701828</td>\n      <td>19.961746</td>\n      <td>BARBARA ST</td>\n      <td>parking area</td>\n    </tr>\n    <tr>\n      <th>57</th>\n      <td>28345</td>\n      <td>Garage</td>\n      <td>Commercial</td>\n      <td>NaN</td>\n      <td>CHELSEA</td>\n      <td>ST</td>\n      <td>337</td>\n      <td>CL</td>\n      <td>19.693606</td>\n      <td>4.240675</td>\n      <td>4.739336</td>\n      <td>27.264654</td>\n      <td>CHELSEA ST</td>\n      <td>parking area</td>\n    </tr>\n    <tr>\n      <th>83</th>\n      <td>51081</td>\n      <td>Garage</td>\n      <td>Commercial</td>\n      <td>NaN</td>\n      <td>SPICE</td>\n      <td>ST</td>\n      <td>337</td>\n      <td>CL</td>\n      <td>13.338789</td>\n      <td>13.011457</td>\n      <td>26.015681</td>\n      <td>15.834697</td>\n      <td>SPICE ST</td>\n      <td>parking area</td>\n    </tr>\n    <tr>\n      <th>85</th>\n      <td>96948</td>\n      <td>Garage</td>\n      <td>Commercial</td>\n      <td>NaN</td>\n      <td>WASHINGTON</td>\n      <td>ST</td>\n      <td>337</td>\n      <td>CL</td>\n      <td>16.603664</td>\n      <td>8.897935</td>\n      <td>6.508549</td>\n      <td>35.504507</td>\n      <td>WASHINGTON ST</td>\n      <td>parking area</td>\n    </tr>\n    <tr>\n      <th>86</th>\n      <td>41481</td>\n      <td>Garage</td>\n      <td>Commercial</td>\n      <td>NaN</td>\n      <td>DUDLEY</td>\n      <td>ST</td>\n      <td>337</td>\n      <td>CL</td>\n      <td>30.579216</td>\n      <td>7.580920</td>\n      <td>2.251656</td>\n      <td>36.797274</td>\n      <td>DUDLEY ST</td>\n      <td>parking area</td>\n    </tr>\n    <tr>\n      <th>...</th>\n      <td>...</td>\n      <td>...</td>\n      <td>...</td>\n      <td>...</td>\n      <td>...</td>\n      <td>...</td>\n      <td>...</td>\n      <td>...</td>\n      <td>...</td>\n      <td>...</td>\n      <td>...</td>\n      <td>...</td>\n      <td>...</td>\n      <td>...</td>\n    </tr>\n    <tr>\n      <th>98861</th>\n      <td>36500</td>\n      <td>Medical/Lab/Production</td>\n      <td>Public &amp; Quasi-Public</td>\n      <td>NaN</td>\n      <td>N ANDERSON</td>\n      <td>ST</td>\n      <td>979</td>\n      <td>E</td>\n      <td>3.163618</td>\n      <td>22.194760</td>\n      <td>21.120363</td>\n      <td>22.540781</td>\n      <td>N ANDERSON ST</td>\n      <td>hospital</td>\n    </tr>\n    <tr>\n      <th>98870</th>\n      <td>10398</td>\n      <td>Garage</td>\n      <td>Commercial</td>\n      <td>NaN</td>\n      <td>S HUNTINGTON</td>\n      <td>AV</td>\n      <td>337</td>\n      <td>CL</td>\n      <td>12.867327</td>\n      <td>7.007477</td>\n      <td>16.701828</td>\n      <td>19.961746</td>\n      <td>S HUNTINGTON AV</td>\n      <td>parking area</td>\n    </tr>\n    <tr>\n      <th>98876</th>\n      <td>23699</td>\n      <td>Convention/Assembly</td>\n      <td>Public &amp; Quasi-Public</td>\n      <td>NaN</td>\n      <td>BAY STATE</td>\n      <td>RD</td>\n      <td>977</td>\n      <td>E</td>\n      <td>0.744145</td>\n      <td>0.350186</td>\n      <td>7.660455</td>\n      <td>8.579558</td>\n      <td>BAY STATE RD</td>\n      <td>education</td>\n    </tr>\n    <tr>\n      <th>98877</th>\n      <td>15803</td>\n      <td>Convention/Assembly</td>\n      <td>Public &amp; Quasi-Public</td>\n      <td>Pre-1915</td>\n      <td>BAY STATE</td>\n      <td>RD</td>\n      <td>977</td>\n      <td>E</td>\n      <td>0.744145</td>\n      <td>0.350186</td>\n      <td>7.660455</td>\n      <td>8.579558</td>\n      <td>BAY STATE RD</td>\n      <td>education</td>\n    </tr>\n    <tr>\n      <th>98894</th>\n      <td>20012</td>\n      <td>Medical/Lab/Production</td>\n      <td>Public &amp; Quasi-Public</td>\n      <td>NaN</td>\n      <td>LONGWOOD</td>\n      <td>AV</td>\n      <td>979</td>\n      <td>E</td>\n      <td>12.331288</td>\n      <td>11.370143</td>\n      <td>2.188082</td>\n      <td>55.582822</td>\n      <td>LONGWOOD AV</td>\n      <td>hospital</td>\n    </tr>\n  </tbody>\n</table>\n<p>1789 rows × 14 columns</p>\n</div>"
     },
     "execution_count": 98,
     "metadata": {},
     "output_type": "execute_result"
    }
   ],
   "source": [
    "boston_bldg_category.dropna(subset=['category'], inplace=True)\n",
    "boston_bldg_category"
   ],
   "metadata": {
    "collapsed": false,
    "pycharm": {
     "name": "#%%\n"
    }
   }
  },
  {
   "cell_type": "code",
   "execution_count": 99,
   "outputs": [],
   "source": [
    "boston_bldg_category.to_csv('prep_data/boston_bldg_category.csv', encoding='utf-8', index=False)"
   ],
   "metadata": {
    "collapsed": false,
    "pycharm": {
     "name": "#%%\n"
    }
   }
  },
  {
   "cell_type": "code",
   "execution_count": null,
   "outputs": [],
   "source": [],
   "metadata": {
    "collapsed": false,
    "pycharm": {
     "name": "#%%\n"
    }
   }
  },
  {
   "cell_type": "code",
   "execution_count": 7,
   "outputs": [
    {
     "name": "stderr",
     "output_type": "stream",
     "text": [
      "/var/folders/vz/rdt2gv7d2mqft7p3lsdk5hz40000gn/T/ipykernel_51817/2832661799.py:1: DtypeWarning: Columns (6) have mixed types. Specify dtype option on import or set low_memory=False.\n",
      "  boston_crime = pd.read_csv('data/boston_crime.csv')\n"
     ]
    },
    {
     "data": {
      "text/plain": "       INCIDENT_NUMBER  OFFENSE_CODE OFFENSE_CODE_GROUP  \\\n0           I152071100          2611              Other   \n1           I152054466          2611              Other   \n2           I162018570          2611              Other   \n3           I192018747          2611              Other   \n4           I162001276          2611              Other   \n...                ...           ...                ...   \n525570       202010180          1501                NaN   \n525571       202016544          1501                NaN   \n525572       202017756          1501                NaN   \n525573       202007355          1501                NaN   \n525574       202013778          1501                NaN   \n\n                                      OFFENSE_DESCRIPTION DISTRICT  \\\n0                                    ABDUCTION - INTICING       D4   \n1                                    ABDUCTION - INTICING       B2   \n2                                    ABDUCTION - INTICING       D4   \n3                                    ABDUCTION - INTICING       B2   \n4                                    ABDUCTION - INTICING       B3   \n...                                                   ...      ...   \n525570  WEAPON VIOLATION - CARRY/ POSSESSING/ SALE/ TR...       B2   \n525571  WEAPON VIOLATION - CARRY/ POSSESSING/ SALE/ TR...       B3   \n525572  WEAPON VIOLATION - CARRY/ POSSESSING/ SALE/ TR...       B2   \n525573  WEAPON VIOLATION - CARRY/ POSSESSING/ SALE/ TR...       B2   \n525574  WEAPON VIOLATION - CARRY/ POSSESSING/ SALE/ TR...       B2   \n\n       REPORTING_AREA SHOOTING     OCCURRED_ON_DATE  YEAR  MONTH DAY_OF_WEEK  \\\n0                 151      NaN  2015-08-25 14:00:00  2015      8     Tuesday   \n1                 319      NaN  2015-07-01 20:30:00  2015      7   Wednesday   \n2                          NaN  2016-03-09 17:28:00  2016      3   Wednesday   \n3                 179      NaN  2019-03-13 19:34:00  2019      3   Wednesday   \n4                 428      NaN  2016-01-05 16:12:00  2016      1     Tuesday   \n...               ...      ...                  ...   ...    ...         ...   \n525570            613        0  2020-02-06 18:07:00  2020      2    Thursday   \n525571            450        0  2020-02-29 19:08:00  2020      2    Saturday   \n525572            183        0  2020-03-05 03:39:00  2020      3    Thursday   \n525573            326        0  2020-01-28 02:28:00  2020      1     Tuesday   \n525574            319        0  2020-02-19 22:15:00  2020      2   Wednesday   \n\n        HOUR  UCR_PART            STREET        Lat       Long  \\\n0         14  Part Two       BERKELEY ST  42.346465 -71.070704   \n1         20  Part Two         NAZING ST  42.306641 -71.085850   \n2         17  Part Two               NaN        NaN        NaN   \n3         19  Part Two               NaN        NaN        NaN   \n4         16  Part Two        NORFOLK ST  42.280566 -71.088017   \n...      ...       ...               ...        ...        ...   \n525570    18       NaN        PILGRIM RD  42.338067 -71.109782   \n525571    19       NaN       ROSEDALE ST  42.292441 -71.073206   \n525572     3       NaN               NaN  42.320181 -71.071294   \n525573     2       NaN  BLUE HILL AVENUE        NaN        NaN   \n525574    22       NaN     BLUE HILL AVE  42.308037 -71.083592   \n\n                           Location  \n0       (42.34646505, -71.07070436)  \n1       (42.30664081, -71.08584976)  \n2          (0.00000000, 0.00000000)  \n3          (0.00000000, 0.00000000)  \n4       (42.28056608, -71.08801662)  \n...                             ...  \n525570  (42.33806700, -71.10978200)  \n525571  (42.29244100, -71.07320600)  \n525572  (42.32018100, -71.07129400)  \n525573     (0.00000000, 0.00000000)  \n525574  (42.30803700, -71.08359200)  \n\n[525575 rows x 17 columns]",
      "text/html": "<div>\n<style scoped>\n    .dataframe tbody tr th:only-of-type {\n        vertical-align: middle;\n    }\n\n    .dataframe tbody tr th {\n        vertical-align: top;\n    }\n\n    .dataframe thead th {\n        text-align: right;\n    }\n</style>\n<table border=\"1\" class=\"dataframe\">\n  <thead>\n    <tr style=\"text-align: right;\">\n      <th></th>\n      <th>INCIDENT_NUMBER</th>\n      <th>OFFENSE_CODE</th>\n      <th>OFFENSE_CODE_GROUP</th>\n      <th>OFFENSE_DESCRIPTION</th>\n      <th>DISTRICT</th>\n      <th>REPORTING_AREA</th>\n      <th>SHOOTING</th>\n      <th>OCCURRED_ON_DATE</th>\n      <th>YEAR</th>\n      <th>MONTH</th>\n      <th>DAY_OF_WEEK</th>\n      <th>HOUR</th>\n      <th>UCR_PART</th>\n      <th>STREET</th>\n      <th>Lat</th>\n      <th>Long</th>\n      <th>Location</th>\n    </tr>\n  </thead>\n  <tbody>\n    <tr>\n      <th>0</th>\n      <td>I152071100</td>\n      <td>2611</td>\n      <td>Other</td>\n      <td>ABDUCTION - INTICING</td>\n      <td>D4</td>\n      <td>151</td>\n      <td>NaN</td>\n      <td>2015-08-25 14:00:00</td>\n      <td>2015</td>\n      <td>8</td>\n      <td>Tuesday</td>\n      <td>14</td>\n      <td>Part Two</td>\n      <td>BERKELEY ST</td>\n      <td>42.346465</td>\n      <td>-71.070704</td>\n      <td>(42.34646505, -71.07070436)</td>\n    </tr>\n    <tr>\n      <th>1</th>\n      <td>I152054466</td>\n      <td>2611</td>\n      <td>Other</td>\n      <td>ABDUCTION - INTICING</td>\n      <td>B2</td>\n      <td>319</td>\n      <td>NaN</td>\n      <td>2015-07-01 20:30:00</td>\n      <td>2015</td>\n      <td>7</td>\n      <td>Wednesday</td>\n      <td>20</td>\n      <td>Part Two</td>\n      <td>NAZING ST</td>\n      <td>42.306641</td>\n      <td>-71.085850</td>\n      <td>(42.30664081, -71.08584976)</td>\n    </tr>\n    <tr>\n      <th>2</th>\n      <td>I162018570</td>\n      <td>2611</td>\n      <td>Other</td>\n      <td>ABDUCTION - INTICING</td>\n      <td>D4</td>\n      <td></td>\n      <td>NaN</td>\n      <td>2016-03-09 17:28:00</td>\n      <td>2016</td>\n      <td>3</td>\n      <td>Wednesday</td>\n      <td>17</td>\n      <td>Part Two</td>\n      <td>NaN</td>\n      <td>NaN</td>\n      <td>NaN</td>\n      <td>(0.00000000, 0.00000000)</td>\n    </tr>\n    <tr>\n      <th>3</th>\n      <td>I192018747</td>\n      <td>2611</td>\n      <td>Other</td>\n      <td>ABDUCTION - INTICING</td>\n      <td>B2</td>\n      <td>179</td>\n      <td>NaN</td>\n      <td>2019-03-13 19:34:00</td>\n      <td>2019</td>\n      <td>3</td>\n      <td>Wednesday</td>\n      <td>19</td>\n      <td>Part Two</td>\n      <td>NaN</td>\n      <td>NaN</td>\n      <td>NaN</td>\n      <td>(0.00000000, 0.00000000)</td>\n    </tr>\n    <tr>\n      <th>4</th>\n      <td>I162001276</td>\n      <td>2611</td>\n      <td>Other</td>\n      <td>ABDUCTION - INTICING</td>\n      <td>B3</td>\n      <td>428</td>\n      <td>NaN</td>\n      <td>2016-01-05 16:12:00</td>\n      <td>2016</td>\n      <td>1</td>\n      <td>Tuesday</td>\n      <td>16</td>\n      <td>Part Two</td>\n      <td>NORFOLK ST</td>\n      <td>42.280566</td>\n      <td>-71.088017</td>\n      <td>(42.28056608, -71.08801662)</td>\n    </tr>\n    <tr>\n      <th>...</th>\n      <td>...</td>\n      <td>...</td>\n      <td>...</td>\n      <td>...</td>\n      <td>...</td>\n      <td>...</td>\n      <td>...</td>\n      <td>...</td>\n      <td>...</td>\n      <td>...</td>\n      <td>...</td>\n      <td>...</td>\n      <td>...</td>\n      <td>...</td>\n      <td>...</td>\n      <td>...</td>\n      <td>...</td>\n    </tr>\n    <tr>\n      <th>525570</th>\n      <td>202010180</td>\n      <td>1501</td>\n      <td>NaN</td>\n      <td>WEAPON VIOLATION - CARRY/ POSSESSING/ SALE/ TR...</td>\n      <td>B2</td>\n      <td>613</td>\n      <td>0</td>\n      <td>2020-02-06 18:07:00</td>\n      <td>2020</td>\n      <td>2</td>\n      <td>Thursday</td>\n      <td>18</td>\n      <td>NaN</td>\n      <td>PILGRIM RD</td>\n      <td>42.338067</td>\n      <td>-71.109782</td>\n      <td>(42.33806700, -71.10978200)</td>\n    </tr>\n    <tr>\n      <th>525571</th>\n      <td>202016544</td>\n      <td>1501</td>\n      <td>NaN</td>\n      <td>WEAPON VIOLATION - CARRY/ POSSESSING/ SALE/ TR...</td>\n      <td>B3</td>\n      <td>450</td>\n      <td>0</td>\n      <td>2020-02-29 19:08:00</td>\n      <td>2020</td>\n      <td>2</td>\n      <td>Saturday</td>\n      <td>19</td>\n      <td>NaN</td>\n      <td>ROSEDALE ST</td>\n      <td>42.292441</td>\n      <td>-71.073206</td>\n      <td>(42.29244100, -71.07320600)</td>\n    </tr>\n    <tr>\n      <th>525572</th>\n      <td>202017756</td>\n      <td>1501</td>\n      <td>NaN</td>\n      <td>WEAPON VIOLATION - CARRY/ POSSESSING/ SALE/ TR...</td>\n      <td>B2</td>\n      <td>183</td>\n      <td>0</td>\n      <td>2020-03-05 03:39:00</td>\n      <td>2020</td>\n      <td>3</td>\n      <td>Thursday</td>\n      <td>3</td>\n      <td>NaN</td>\n      <td>NaN</td>\n      <td>42.320181</td>\n      <td>-71.071294</td>\n      <td>(42.32018100, -71.07129400)</td>\n    </tr>\n    <tr>\n      <th>525573</th>\n      <td>202007355</td>\n      <td>1501</td>\n      <td>NaN</td>\n      <td>WEAPON VIOLATION - CARRY/ POSSESSING/ SALE/ TR...</td>\n      <td>B2</td>\n      <td>326</td>\n      <td>0</td>\n      <td>2020-01-28 02:28:00</td>\n      <td>2020</td>\n      <td>1</td>\n      <td>Tuesday</td>\n      <td>2</td>\n      <td>NaN</td>\n      <td>BLUE HILL AVENUE</td>\n      <td>NaN</td>\n      <td>NaN</td>\n      <td>(0.00000000, 0.00000000)</td>\n    </tr>\n    <tr>\n      <th>525574</th>\n      <td>202013778</td>\n      <td>1501</td>\n      <td>NaN</td>\n      <td>WEAPON VIOLATION - CARRY/ POSSESSING/ SALE/ TR...</td>\n      <td>B2</td>\n      <td>319</td>\n      <td>0</td>\n      <td>2020-02-19 22:15:00</td>\n      <td>2020</td>\n      <td>2</td>\n      <td>Wednesday</td>\n      <td>22</td>\n      <td>NaN</td>\n      <td>BLUE HILL AVE</td>\n      <td>42.308037</td>\n      <td>-71.083592</td>\n      <td>(42.30803700, -71.08359200)</td>\n    </tr>\n  </tbody>\n</table>\n<p>525575 rows × 17 columns</p>\n</div>"
     },
     "execution_count": 7,
     "metadata": {},
     "output_type": "execute_result"
    }
   ],
   "source": [
    "boston_crime = pd.read_csv('data/boston_crime.csv')\n",
    "boston_crime"
   ],
   "metadata": {
    "collapsed": false,
    "pycharm": {
     "name": "#%%\n"
    }
   }
  },
  {
   "cell_type": "code",
   "execution_count": 15,
   "outputs": [
    {
     "data": {
      "text/plain": "                        street  crime_count\n0                   ALBANY ST            42\n1               BLUE HILL AVE             8\n2                COLUMBUS AVE             2\n3            COMMONWEALTH AVE            10\n4           MASSACHUSETTS AVE            27\n...                        ...          ...\n5406  ZEIGLER ST & BETHUNE WAY            1\n5407   ZEIGLER ST & WINSLOW ST            1\n5408                 ZELLER ST            6\n5409                   ZIEGLER            1\n5410                ZIEGLER ST            1\n\n[5411 rows x 2 columns]",
      "text/html": "<div>\n<style scoped>\n    .dataframe tbody tr th:only-of-type {\n        vertical-align: middle;\n    }\n\n    .dataframe tbody tr th {\n        vertical-align: top;\n    }\n\n    .dataframe thead th {\n        text-align: right;\n    }\n</style>\n<table border=\"1\" class=\"dataframe\">\n  <thead>\n    <tr style=\"text-align: right;\">\n      <th></th>\n      <th>street</th>\n      <th>crime_count</th>\n    </tr>\n  </thead>\n  <tbody>\n    <tr>\n      <th>0</th>\n      <td>ALBANY ST</td>\n      <td>42</td>\n    </tr>\n    <tr>\n      <th>1</th>\n      <td>BLUE HILL AVE</td>\n      <td>8</td>\n    </tr>\n    <tr>\n      <th>2</th>\n      <td>COLUMBUS AVE</td>\n      <td>2</td>\n    </tr>\n    <tr>\n      <th>3</th>\n      <td>COMMONWEALTH AVE</td>\n      <td>10</td>\n    </tr>\n    <tr>\n      <th>4</th>\n      <td>MASSACHUSETTS AVE</td>\n      <td>27</td>\n    </tr>\n    <tr>\n      <th>...</th>\n      <td>...</td>\n      <td>...</td>\n    </tr>\n    <tr>\n      <th>5406</th>\n      <td>ZEIGLER ST &amp; BETHUNE WAY</td>\n      <td>1</td>\n    </tr>\n    <tr>\n      <th>5407</th>\n      <td>ZEIGLER ST &amp; WINSLOW ST</td>\n      <td>1</td>\n    </tr>\n    <tr>\n      <th>5408</th>\n      <td>ZELLER ST</td>\n      <td>6</td>\n    </tr>\n    <tr>\n      <th>5409</th>\n      <td>ZIEGLER</td>\n      <td>1</td>\n    </tr>\n    <tr>\n      <th>5410</th>\n      <td>ZIEGLER ST</td>\n      <td>1</td>\n    </tr>\n  </tbody>\n</table>\n<p>5411 rows × 2 columns</p>\n</div>"
     },
     "execution_count": 15,
     "metadata": {},
     "output_type": "execute_result"
    }
   ],
   "source": [
    "boston_crime_street_year = boston_crime.groupby(['STREET']).size()\n",
    "boston_crime_street_year = boston_crime_street_year.reset_index()\n",
    "boston_crime_street_year.columns = ['street', 'crime_count']\n",
    "boston_crime_street_year"
   ],
   "metadata": {
    "collapsed": false,
    "pycharm": {
     "name": "#%%\n"
    }
   }
  },
  {
   "cell_type": "code",
   "execution_count": 28,
   "outputs": [],
   "source": [
    "boston_crime_street_year = boston_crime_street_year.astype({'street':str})"
   ],
   "metadata": {
    "collapsed": false,
    "pycharm": {
     "name": "#%%\n"
    }
   }
  },
  {
   "cell_type": "code",
   "execution_count": 3,
   "outputs": [
    {
     "data": {
      "text/plain": "         Unnamed: 0 ct_perc_children_under_5\n0               NaN                     mean\n1            st_loc                      NaN\n2              A ST        7.760494063806451\n3          ABBOT ST              32.85957931\n4     ABBOTSFORD ST              22.60032103\n...             ...                      ...\n4072       YUILL CI              17.66409266\n4073      ZAMORA CT              8.589870904\n4074      ZAMORA ST              8.589870904\n4075     ZEIGLER ST       29.704797050000003\n4076      ZELLER ST       15.205830209999998\n\n[4077 rows x 2 columns]",
      "text/html": "<div>\n<style scoped>\n    .dataframe tbody tr th:only-of-type {\n        vertical-align: middle;\n    }\n\n    .dataframe tbody tr th {\n        vertical-align: top;\n    }\n\n    .dataframe thead th {\n        text-align: right;\n    }\n</style>\n<table border=\"1\" class=\"dataframe\">\n  <thead>\n    <tr style=\"text-align: right;\">\n      <th></th>\n      <th>Unnamed: 0</th>\n      <th>ct_perc_children_under_5</th>\n    </tr>\n  </thead>\n  <tbody>\n    <tr>\n      <th>0</th>\n      <td>NaN</td>\n      <td>mean</td>\n    </tr>\n    <tr>\n      <th>1</th>\n      <td>st_loc</td>\n      <td>NaN</td>\n    </tr>\n    <tr>\n      <th>2</th>\n      <td>A ST</td>\n      <td>7.760494063806451</td>\n    </tr>\n    <tr>\n      <th>3</th>\n      <td>ABBOT ST</td>\n      <td>32.85957931</td>\n    </tr>\n    <tr>\n      <th>4</th>\n      <td>ABBOTSFORD ST</td>\n      <td>22.60032103</td>\n    </tr>\n    <tr>\n      <th>...</th>\n      <td>...</td>\n      <td>...</td>\n    </tr>\n    <tr>\n      <th>4072</th>\n      <td>YUILL CI</td>\n      <td>17.66409266</td>\n    </tr>\n    <tr>\n      <th>4073</th>\n      <td>ZAMORA CT</td>\n      <td>8.589870904</td>\n    </tr>\n    <tr>\n      <th>4074</th>\n      <td>ZAMORA ST</td>\n      <td>8.589870904</td>\n    </tr>\n    <tr>\n      <th>4075</th>\n      <td>ZEIGLER ST</td>\n      <td>29.704797050000003</td>\n    </tr>\n    <tr>\n      <th>4076</th>\n      <td>ZELLER ST</td>\n      <td>15.205830209999998</td>\n    </tr>\n  </tbody>\n</table>\n<p>4077 rows × 2 columns</p>\n</div>"
     },
     "execution_count": 3,
     "metadata": {},
     "output_type": "execute_result"
    }
   ],
   "source": [
    "# bar chart for children under 5\n",
    "boston_under_5 = pd.read_csv('prep_data/boston_bldg_by_children_under_5.csv')\n",
    "boston_under_5"
   ],
   "metadata": {
    "collapsed": false,
    "pycharm": {
     "name": "#%%\n"
    }
   }
  },
  {
   "cell_type": "code",
   "execution_count": 16,
   "outputs": [
    {
     "data": {
      "text/plain": "             street        perc_under_5\n0               NaN                mean\n1            st_loc                 NaN\n2              A ST   7.760494063806451\n3          ABBOT ST         32.85957931\n4     ABBOTSFORD ST         22.60032103\n...             ...                 ...\n4072       YUILL CI         17.66409266\n4073      ZAMORA CT         8.589870904\n4074      ZAMORA ST         8.589870904\n4075     ZEIGLER ST  29.704797050000003\n4076      ZELLER ST  15.205830209999998\n\n[4077 rows x 2 columns]",
      "text/html": "<div>\n<style scoped>\n    .dataframe tbody tr th:only-of-type {\n        vertical-align: middle;\n    }\n\n    .dataframe tbody tr th {\n        vertical-align: top;\n    }\n\n    .dataframe thead th {\n        text-align: right;\n    }\n</style>\n<table border=\"1\" class=\"dataframe\">\n  <thead>\n    <tr style=\"text-align: right;\">\n      <th></th>\n      <th>street</th>\n      <th>perc_under_5</th>\n    </tr>\n  </thead>\n  <tbody>\n    <tr>\n      <th>0</th>\n      <td>NaN</td>\n      <td>mean</td>\n    </tr>\n    <tr>\n      <th>1</th>\n      <td>st_loc</td>\n      <td>NaN</td>\n    </tr>\n    <tr>\n      <th>2</th>\n      <td>A ST</td>\n      <td>7.760494063806451</td>\n    </tr>\n    <tr>\n      <th>3</th>\n      <td>ABBOT ST</td>\n      <td>32.85957931</td>\n    </tr>\n    <tr>\n      <th>4</th>\n      <td>ABBOTSFORD ST</td>\n      <td>22.60032103</td>\n    </tr>\n    <tr>\n      <th>...</th>\n      <td>...</td>\n      <td>...</td>\n    </tr>\n    <tr>\n      <th>4072</th>\n      <td>YUILL CI</td>\n      <td>17.66409266</td>\n    </tr>\n    <tr>\n      <th>4073</th>\n      <td>ZAMORA CT</td>\n      <td>8.589870904</td>\n    </tr>\n    <tr>\n      <th>4074</th>\n      <td>ZAMORA ST</td>\n      <td>8.589870904</td>\n    </tr>\n    <tr>\n      <th>4075</th>\n      <td>ZEIGLER ST</td>\n      <td>29.704797050000003</td>\n    </tr>\n    <tr>\n      <th>4076</th>\n      <td>ZELLER ST</td>\n      <td>15.205830209999998</td>\n    </tr>\n  </tbody>\n</table>\n<p>4077 rows × 2 columns</p>\n</div>"
     },
     "execution_count": 16,
     "metadata": {},
     "output_type": "execute_result"
    }
   ],
   "source": [
    "boston_under_5.columns = ['street', 'perc_under_5']\n",
    "boston_under_5"
   ],
   "metadata": {
    "collapsed": false,
    "pycharm": {
     "name": "#%%\n"
    }
   }
  },
  {
   "cell_type": "code",
   "execution_count": 34,
   "outputs": [],
   "source": [
    "boston_under_5.dropna(inplace=True)\n",
    "boston_under_5 = boston_under_5.astype({'street': str})"
   ],
   "metadata": {
    "collapsed": false,
    "pycharm": {
     "name": "#%%\n"
    }
   }
  },
  {
   "cell_type": "code",
   "execution_count": 41,
   "outputs": [
    {
     "data": {
      "text/plain": "             street        perc_under_5  crime_count\n0              A ST   7.760494063806451          339\n1          ABBOT ST         32.85957931          285\n2     ABBOTSFORD ST         22.60032103          176\n3           ABBY RD   9.167842031000001            5\n4       ABERDEEN ST         0.409706902           29\n...             ...                 ...          ...\n2883    YORKTOWN ST         19.35197514            2\n2884      ZAMORA CT         8.589870904            2\n2885      ZAMORA ST         8.589870904           14\n2886     ZEIGLER ST  29.704797050000003          258\n2887      ZELLER ST  15.205830209999998            6\n\n[2888 rows x 3 columns]",
      "text/html": "<div>\n<style scoped>\n    .dataframe tbody tr th:only-of-type {\n        vertical-align: middle;\n    }\n\n    .dataframe tbody tr th {\n        vertical-align: top;\n    }\n\n    .dataframe thead th {\n        text-align: right;\n    }\n</style>\n<table border=\"1\" class=\"dataframe\">\n  <thead>\n    <tr style=\"text-align: right;\">\n      <th></th>\n      <th>street</th>\n      <th>perc_under_5</th>\n      <th>crime_count</th>\n    </tr>\n  </thead>\n  <tbody>\n    <tr>\n      <th>0</th>\n      <td>A ST</td>\n      <td>7.760494063806451</td>\n      <td>339</td>\n    </tr>\n    <tr>\n      <th>1</th>\n      <td>ABBOT ST</td>\n      <td>32.85957931</td>\n      <td>285</td>\n    </tr>\n    <tr>\n      <th>2</th>\n      <td>ABBOTSFORD ST</td>\n      <td>22.60032103</td>\n      <td>176</td>\n    </tr>\n    <tr>\n      <th>3</th>\n      <td>ABBY RD</td>\n      <td>9.167842031000001</td>\n      <td>5</td>\n    </tr>\n    <tr>\n      <th>4</th>\n      <td>ABERDEEN ST</td>\n      <td>0.409706902</td>\n      <td>29</td>\n    </tr>\n    <tr>\n      <th>...</th>\n      <td>...</td>\n      <td>...</td>\n      <td>...</td>\n    </tr>\n    <tr>\n      <th>2883</th>\n      <td>YORKTOWN ST</td>\n      <td>19.35197514</td>\n      <td>2</td>\n    </tr>\n    <tr>\n      <th>2884</th>\n      <td>ZAMORA CT</td>\n      <td>8.589870904</td>\n      <td>2</td>\n    </tr>\n    <tr>\n      <th>2885</th>\n      <td>ZAMORA ST</td>\n      <td>8.589870904</td>\n      <td>14</td>\n    </tr>\n    <tr>\n      <th>2886</th>\n      <td>ZEIGLER ST</td>\n      <td>29.704797050000003</td>\n      <td>258</td>\n    </tr>\n    <tr>\n      <th>2887</th>\n      <td>ZELLER ST</td>\n      <td>15.205830209999998</td>\n      <td>6</td>\n    </tr>\n  </tbody>\n</table>\n<p>2888 rows × 3 columns</p>\n</div>"
     },
     "execution_count": 41,
     "metadata": {},
     "output_type": "execute_result"
    }
   ],
   "source": [
    "boston_under_5_street_crime = pd.merge(boston_under_5, boston_crime_street_year)\n",
    "boston_under_5_street_crime"
   ],
   "metadata": {
    "collapsed": false,
    "pycharm": {
     "name": "#%%\n"
    }
   }
  },
  {
   "cell_type": "code",
   "execution_count": 45,
   "outputs": [
    {
     "data": {
      "text/plain": "                street  perc_under_5  crime_count\n2565           TIDE ST      0.000000            8\n892          ELKINS ST      0.000000            8\n754   DESIGN CENTER PL      0.000000            6\n832      E BOUNDARY RD      0.000000            1\n415          BUSSEY ST      0.000000           76\n...                ...           ...          ...\n103         ARBUTUS ST     40.725953          102\n1402           IRMA ST     40.725953           99\n1482       KINGBIRD RD     40.725953          108\n382       BROOKVIEW ST     40.725953           93\n1167       GREENOCK ST     40.725953           82\n\n[2888 rows x 3 columns]",
      "text/html": "<div>\n<style scoped>\n    .dataframe tbody tr th:only-of-type {\n        vertical-align: middle;\n    }\n\n    .dataframe tbody tr th {\n        vertical-align: top;\n    }\n\n    .dataframe thead th {\n        text-align: right;\n    }\n</style>\n<table border=\"1\" class=\"dataframe\">\n  <thead>\n    <tr style=\"text-align: right;\">\n      <th></th>\n      <th>street</th>\n      <th>perc_under_5</th>\n      <th>crime_count</th>\n    </tr>\n  </thead>\n  <tbody>\n    <tr>\n      <th>2565</th>\n      <td>TIDE ST</td>\n      <td>0.000000</td>\n      <td>8</td>\n    </tr>\n    <tr>\n      <th>892</th>\n      <td>ELKINS ST</td>\n      <td>0.000000</td>\n      <td>8</td>\n    </tr>\n    <tr>\n      <th>754</th>\n      <td>DESIGN CENTER PL</td>\n      <td>0.000000</td>\n      <td>6</td>\n    </tr>\n    <tr>\n      <th>832</th>\n      <td>E BOUNDARY RD</td>\n      <td>0.000000</td>\n      <td>1</td>\n    </tr>\n    <tr>\n      <th>415</th>\n      <td>BUSSEY ST</td>\n      <td>0.000000</td>\n      <td>76</td>\n    </tr>\n    <tr>\n      <th>...</th>\n      <td>...</td>\n      <td>...</td>\n      <td>...</td>\n    </tr>\n    <tr>\n      <th>103</th>\n      <td>ARBUTUS ST</td>\n      <td>40.725953</td>\n      <td>102</td>\n    </tr>\n    <tr>\n      <th>1402</th>\n      <td>IRMA ST</td>\n      <td>40.725953</td>\n      <td>99</td>\n    </tr>\n    <tr>\n      <th>1482</th>\n      <td>KINGBIRD RD</td>\n      <td>40.725953</td>\n      <td>108</td>\n    </tr>\n    <tr>\n      <th>382</th>\n      <td>BROOKVIEW ST</td>\n      <td>40.725953</td>\n      <td>93</td>\n    </tr>\n    <tr>\n      <th>1167</th>\n      <td>GREENOCK ST</td>\n      <td>40.725953</td>\n      <td>82</td>\n    </tr>\n  </tbody>\n</table>\n<p>2888 rows × 3 columns</p>\n</div>"
     },
     "execution_count": 45,
     "metadata": {},
     "output_type": "execute_result"
    }
   ],
   "source": [
    "boston_under_5_street_crime = boston_under_5_street_crime.astype({'perc_under_5': float})\n",
    "boston_under_5_street_crime.sort_values(by='perc_under_5', inplace=True)\n",
    "boston_under_5_street_crime"
   ],
   "metadata": {
    "collapsed": false,
    "pycharm": {
     "name": "#%%\n"
    }
   }
  },
  {
   "cell_type": "code",
   "execution_count": 57,
   "outputs": [
    {
     "data": {
      "text/plain": "                street  perc_under_5  crime_count  group\n2565           TIDE ST      0.000000            8      0\n892          ELKINS ST      0.000000            8      0\n754   DESIGN CENTER PL      0.000000            6      0\n832      E BOUNDARY RD      0.000000            1      0\n415          BUSSEY ST      0.000000           76      0\n...                ...           ...          ...    ...\n103         ARBUTUS ST     40.725953          102      8\n1402           IRMA ST     40.725953           99      8\n1482       KINGBIRD RD     40.725953          108      8\n382       BROOKVIEW ST     40.725953           93      8\n1167       GREENOCK ST     40.725953           82      8\n\n[2888 rows x 4 columns]",
      "text/html": "<div>\n<style scoped>\n    .dataframe tbody tr th:only-of-type {\n        vertical-align: middle;\n    }\n\n    .dataframe tbody tr th {\n        vertical-align: top;\n    }\n\n    .dataframe thead th {\n        text-align: right;\n    }\n</style>\n<table border=\"1\" class=\"dataframe\">\n  <thead>\n    <tr style=\"text-align: right;\">\n      <th></th>\n      <th>street</th>\n      <th>perc_under_5</th>\n      <th>crime_count</th>\n      <th>group</th>\n    </tr>\n  </thead>\n  <tbody>\n    <tr>\n      <th>2565</th>\n      <td>TIDE ST</td>\n      <td>0.000000</td>\n      <td>8</td>\n      <td>0</td>\n    </tr>\n    <tr>\n      <th>892</th>\n      <td>ELKINS ST</td>\n      <td>0.000000</td>\n      <td>8</td>\n      <td>0</td>\n    </tr>\n    <tr>\n      <th>754</th>\n      <td>DESIGN CENTER PL</td>\n      <td>0.000000</td>\n      <td>6</td>\n      <td>0</td>\n    </tr>\n    <tr>\n      <th>832</th>\n      <td>E BOUNDARY RD</td>\n      <td>0.000000</td>\n      <td>1</td>\n      <td>0</td>\n    </tr>\n    <tr>\n      <th>415</th>\n      <td>BUSSEY ST</td>\n      <td>0.000000</td>\n      <td>76</td>\n      <td>0</td>\n    </tr>\n    <tr>\n      <th>...</th>\n      <td>...</td>\n      <td>...</td>\n      <td>...</td>\n      <td>...</td>\n    </tr>\n    <tr>\n      <th>103</th>\n      <td>ARBUTUS ST</td>\n      <td>40.725953</td>\n      <td>102</td>\n      <td>8</td>\n    </tr>\n    <tr>\n      <th>1402</th>\n      <td>IRMA ST</td>\n      <td>40.725953</td>\n      <td>99</td>\n      <td>8</td>\n    </tr>\n    <tr>\n      <th>1482</th>\n      <td>KINGBIRD RD</td>\n      <td>40.725953</td>\n      <td>108</td>\n      <td>8</td>\n    </tr>\n    <tr>\n      <th>382</th>\n      <td>BROOKVIEW ST</td>\n      <td>40.725953</td>\n      <td>93</td>\n      <td>8</td>\n    </tr>\n    <tr>\n      <th>1167</th>\n      <td>GREENOCK ST</td>\n      <td>40.725953</td>\n      <td>82</td>\n      <td>8</td>\n    </tr>\n  </tbody>\n</table>\n<p>2888 rows × 4 columns</p>\n</div>"
     },
     "execution_count": 57,
     "metadata": {},
     "output_type": "execute_result"
    }
   ],
   "source": [
    "boston_under_5_street_crime['group'] = boston_under_5_street_crime['perc_under_5'].apply(lambda x: int(x / 5))\n",
    "boston_under_5_street_crime"
   ],
   "metadata": {
    "collapsed": false,
    "pycharm": {
     "name": "#%%\n"
    }
   }
  },
  {
   "cell_type": "code",
   "execution_count": 59,
   "outputs": [
    {
     "data": {
      "text/plain": "   group  crime_count\n0      0        12460\n1      1        58276\n2      2        48287\n3      3        53035\n4      4       101640\n5      5        43873\n6      6        27775\n7      7         3971\n8      8         2667",
      "text/html": "<div>\n<style scoped>\n    .dataframe tbody tr th:only-of-type {\n        vertical-align: middle;\n    }\n\n    .dataframe tbody tr th {\n        vertical-align: top;\n    }\n\n    .dataframe thead th {\n        text-align: right;\n    }\n</style>\n<table border=\"1\" class=\"dataframe\">\n  <thead>\n    <tr style=\"text-align: right;\">\n      <th></th>\n      <th>group</th>\n      <th>crime_count</th>\n    </tr>\n  </thead>\n  <tbody>\n    <tr>\n      <th>0</th>\n      <td>0</td>\n      <td>12460</td>\n    </tr>\n    <tr>\n      <th>1</th>\n      <td>1</td>\n      <td>58276</td>\n    </tr>\n    <tr>\n      <th>2</th>\n      <td>2</td>\n      <td>48287</td>\n    </tr>\n    <tr>\n      <th>3</th>\n      <td>3</td>\n      <td>53035</td>\n    </tr>\n    <tr>\n      <th>4</th>\n      <td>4</td>\n      <td>101640</td>\n    </tr>\n    <tr>\n      <th>5</th>\n      <td>5</td>\n      <td>43873</td>\n    </tr>\n    <tr>\n      <th>6</th>\n      <td>6</td>\n      <td>27775</td>\n    </tr>\n    <tr>\n      <th>7</th>\n      <td>7</td>\n      <td>3971</td>\n    </tr>\n    <tr>\n      <th>8</th>\n      <td>8</td>\n      <td>2667</td>\n    </tr>\n  </tbody>\n</table>\n</div>"
     },
     "execution_count": 59,
     "metadata": {},
     "output_type": "execute_result"
    }
   ],
   "source": [
    "boston_under_5_street_crime_group = boston_under_5_street_crime.groupby('group').agg({'crime_count': 'sum'}).reset_index()\n",
    "boston_under_5_street_crime_group"
   ],
   "metadata": {
    "collapsed": false,
    "pycharm": {
     "name": "#%%\n"
    }
   }
  },
  {
   "cell_type": "code",
   "execution_count": 60,
   "outputs": [
    {
     "data": {
      "text/plain": "<Figure size 720x720 with 1 Axes>",
      "image/png": "[encoded data removed]"
     },
     "metadata": {},
     "output_type": "display_data"
    }
   ],
   "source": [
    "plt.figure(figsize=(10, 10))\n",
    "plt.plot(boston_under_5_street_crime_group['group'], boston_under_5_street_crime_group['crime_count'],color = 'r',label=\"criminal tend\")\n",
    "plt.xlabel(\"perc_under_5\")\n",
    "plt.ylabel(\"criminal amount\")\n",
    "plt.legend(loc = \"best\")\n",
    "plt.show()"
   ],
   "metadata": {
    "collapsed": false,
    "pycharm": {
     "name": "#%%\n"
    }
   }
  },
  {
   "cell_type": "code",
   "execution_count": null,
   "outputs": [],
   "source": [],
   "metadata": {
    "collapsed": false,
    "pycharm": {
     "name": "#%%\n"
    }
   }
  }
 ],
 "metadata": {
  "kernelspec": {
   "display_name": "Python 3",
   "language": "python",
   "name": "python3"
  },
  "language_info": {
   "codemirror_mode": {
    "name": "ipython",
    "version": 2
   },
   "file_extension": ".py",
   "mimetype": "text/x-python",
   "name": "python",
   "nbconvert_exporter": "python",
   "pygments_lexer": "ipython2",
   "version": "2.7.6"
  }
 },
 "nbformat": 4,
 "nbformat_minor": 0
}